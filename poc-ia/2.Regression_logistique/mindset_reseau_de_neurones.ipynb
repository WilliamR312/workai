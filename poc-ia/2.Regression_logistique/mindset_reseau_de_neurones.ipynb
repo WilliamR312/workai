{
 "cells": [
  {
   "cell_type": "markdown",
   "metadata": {},
   "source": [
    "# Mindset d'un réseau de neurones avec la régression logistique\n",
    "\n",
    "Dans ce workshop, vous allez coder un réseau de neurones pour reconnaître des chats à partir d'une image. Vous apprendrez le mindset (= l'état d'esprit) du fonctionnement d'un réseau de neurones, et acquérir, de manière générale, une idée de ce qu'est le deep learning.\n",
    "\n",
    "**Instructions:**\n",
    "- N'utilisez pas de boucles for ou while à moins qu'on ne vous le demande explicitement.\n",
    "\n",
    "\n",
    "**Vous allez apprendre à:**\n",
    "- Construire l'architecture générale d'un modèle d'apprentissage incluant:\n",
    "    - l'initialisation des paramètres\n",
    "    - le calcul de la fonction de coût et de son gradient\n",
    "    - l'utilisation d'un algorithme d'optimisation\n",
    "- Regrouper les trois fonctions ci-dessus pour le modèle."
   ]
  },
  {
   "cell_type": "markdown",
   "metadata": {},
   "source": [
    "## 1 - Packages ##\n",
    "\n",
    "Importons d'abord les packages suivant dont vous aurez besoin:\n",
    "- [numpy](www.numpy.org) est le package fondamental pour le calcul scientifique avec Python.\n",
    "- [h5py](http://www.h5py.org) est un package permettant d'intéragir avec un jeu de données stocké dans un fichier H5.\n",
    "- [matplotlib](http://matplotlib.org) est une bibliothèque connue pour afficher des graphiques en Python.\n",
    "- [PIL](http://www.pythonware.com/products/pil/) et [scipy](https://www.scipy.org/) sont utilisés ici pour tester votre modèle avec vos propres photos à la fin."
   ]
  },
  {
   "cell_type": "code",
   "execution_count": 7,
   "metadata": {},
   "outputs": [],
   "source": [
    "import numpy as np\n",
    "import matplotlib.pyplot as plt\n",
    "import h5py\n",
    "import scipy\n",
    "from PIL import Image\n",
    "from scipy import ndimage\n",
    "from lr_utils import load_dataset\n",
    "\n",
    "%matplotlib inline"
   ]
  },
  {
   "cell_type": "markdown",
   "metadata": {
    "collapsed": true
   },
   "source": [
    "## 2 - Overview de la problématique##\n",
    "\n",
    "**Problématique**: \n",
    "Nous vous avons donné un jeu de données (\"data.h5\") contenant:\n",
    "    - un training set de m_train images, chacune labellisées comme étant un chat (y=1) ou non-chat(y=0)\n",
    "    - un test set de m_test images, chacune labellisées comme étant un chat ou non-chat\n",
    "    - chaque image est de la forme (num_px, num_px, 3) où 3 correspond aux trois canaux RGB. Chaque image est donc carrée de côté num_px.\n",
    "\n",
    "Vous allez construire un algorithme simple de reconnaissance d'images qui pourra classifier correctement les images de chats des autres.\n",
    "\n",
    "Explorons d'abord notre jeu de données. Commençons par l'importer."
   ]
  },
  {
   "cell_type": "code",
   "execution_count": 8,
   "metadata": {},
   "outputs": [],
   "source": [
    "# Chargement des données\n",
    "x_train_orig, y_train, x_test_orig, y_test, classes = load_dataset()"
   ]
  },
  {
   "cell_type": "markdown",
   "metadata": {},
   "source": [
    "Nous avons ajouté \"_orig\" à la fin des jeux de données d'images (train et test) car nous allons par la suite les traiter. En général, lorque l'on vous donne un jeu de données, il n'est jamais parfait. Vous devrez toujours passer par une étape de `nettoyage` appelée `préprocessing`. Après cette étape, vous vous retrouverez avec x_train et x_test (y_train et y_test n'ont pas besoin de préprocessing)\n",
    "\n",
    "Chaque ligne de votre x_train_orig et y_test_orig est un tableau représentant une image. Vous pouvez en visualiser une en exécutant le code suivant. Vous pouvez aussi changer la valeur de `index` si vous voulez voir d'autres images."
   ]
  },
  {
   "cell_type": "code",
   "execution_count": 9,
   "metadata": {},
   "outputs": [
    {
     "output_type": "stream",
     "name": "stdout",
     "text": [
      "y = [0], ceci n'est pas une photo de chat\n"
     ]
    },
    {
     "output_type": "display_data",
     "data": {
      "text/plain": "<Figure size 432x288 with 1 Axes>",
      "image/svg+xml": "<?xml version=\"1.0\" encoding=\"utf-8\" standalone=\"no\"?>\n<!DOCTYPE svg PUBLIC \"-//W3C//DTD SVG 1.1//EN\"\n  \"http://www.w3.org/Graphics/SVG/1.1/DTD/svg11.dtd\">\n<!-- Created with matplotlib (https://matplotlib.org/) -->\n<svg height=\"250.618594pt\" version=\"1.1\" viewBox=\"0 0 251.565 250.618594\" width=\"251.565pt\" xmlns=\"http://www.w3.org/2000/svg\" xmlns:xlink=\"http://www.w3.org/1999/xlink\">\n <metadata>\n  <rdf:RDF xmlns:cc=\"http://creativecommons.org/ns#\" xmlns:dc=\"http://purl.org/dc/elements/1.1/\" xmlns:rdf=\"http://www.w3.org/1999/02/22-rdf-syntax-ns#\">\n   <cc:Work>\n    <dc:type rdf:resource=\"http://purl.org/dc/dcmitype/StillImage\"/>\n    <dc:date>2021-05-18T18:15:23.235195</dc:date>\n    <dc:format>image/svg+xml</dc:format>\n    <dc:creator>\n     <cc:Agent>\n      <dc:title>Matplotlib v3.3.3, https://matplotlib.org/</dc:title>\n     </cc:Agent>\n    </dc:creator>\n   </cc:Work>\n  </rdf:RDF>\n </metadata>\n <defs>\n  <style type=\"text/css\">*{stroke-linecap:butt;stroke-linejoin:round;}</style>\n </defs>\n <g id=\"figure_1\">\n  <g id=\"patch_1\">\n   <path d=\"M 0 250.618594 \nL 251.565 250.618594 \nL 251.565 0 \nL 0 0 \nz\n\" style=\"fill:none;\"/>\n  </g>\n  <g id=\"axes_1\">\n   <g id=\"patch_2\">\n    <path d=\"M 26.925 226.740469 \nL 244.365 226.740469 \nL 244.365 9.300469 \nL 26.925 9.300469 \nz\n\" style=\"fill:#ffffff;\"/>\n   </g>\n   <g clip-path=\"url(#p0edd14b387)\">\n    <image height=\"218\" id=\"imageeca6d44f64\" transform=\"scale(1 -1)translate(0 -218)\" width=\"218\" x=\"26.925\" xlink:href=\"data:image/png;base64,\niVBORw0KGgoAAAANSUhEUgAAANoAAADaCAYAAADAHVzbAAA4WklEQVR4nO19Sawt13XdqfbWbd99777mN/xsP0mRpihRouWGkiHbaWwkBgKkHXiSQWYZBBknCIJk4kEQBE4mBgwEiY0kTgzLkaHIVizLMmTLEtWQEiWRFD/Jz9++9r7bV59Bktprr8fPGWu01+jcd+pWnXuqzqu991l7bW/yUFS7/4d8UTlEVUA7q1Vf5Em7G8qH1Onjilr6wojOEUjfaPD+33HOubOptMtCn6Mu5bMPXxuEgTpudxA17cmjj6q+Z/7a80379o/eUX3f/vIrTbt7pdu0e6tSHXfz1lyu7evxPzEMm3Y8jJv2m/fW6rheIscNB6Hqy/K8aZ8s5doZXasX+0271LfTLWr5Q6eWectLfY4S7qenh+HKtZxj6MP5Onq+1/C89PUp3F5PTtrryvfuDQp1XLElfeuVvu/pOXxe6HuxDmRcNZzS9/Tv3NqScWxN9A9dHMl8Z0dyvskwUscNO/K5DHPVtxnDtZ3BYPjQYQvNYGgBYTqX126npzs7YELMT3UfvpJTT17jbPbV6nWtX/8+fPacHJdrC8IVlRwXR/p/QwKv7lWaNm2yvBxakpuNfsVXYGPF/Y7qi+JEzhHKSYOBPq4TrJr2Fl27BybyGkzd1NO/JYbpCfRUuQjGH4P1Uvj6HBmcv6utOdeDQ+uufAhm2sbsJHBgV59/lcpvKWDeEl8POIRzbDb6/Mdrmf+tXJ6/7UoP+Ayeq81Sm4cZmLAlPVcBzKsXSt8g1ue/vC836uhUn//oTD57MKchuQyBLzej42LVl5zL77Q3msHQAmyhGQwtwBaawdACwgrtfW1+ug7YyBQtd2Um7RjCwxQpds57//C7c9rXwNB/TqHcCkz8nE4y7oiv1HVyYDfQP+Z8JfZyf75SfUUmvl3YofBtXxzXIIJwdrerjkvAnx1rU92h2zoDG39FWxUBhMujWDt6PkxsVcu2gEc+a7YQBzfzHryd4stuhMu0y+qyVM7hzXRfWcr1tCtN2wyXZB5nt/QF1gV8E+bAX+rx9mGL4Jz2KjJ4HoNQXzsIYIzwvXWuz/HuTRnH2UyPEbeNPLjWWaXPUS/l2dnu63vWB//N3mgGQwuwhWYwtIAwQjOHwuqrjbTzjX6td8CEy4BlsKFzJBgF/wDTEV/IGZlUFZpNpTYJjwuxba5CKHrjNJYb+d6oTFUfbi0Eobb70kJMii6YTf29oTquDOF/VqXHWMFcrSCcTVFp54GNEkTaDAljGVd1LqZjSObQaCITno90X57LBUtgO/RomyGF+1nzGJ2Mv4DTl2R+DmAvodwl1sg9+WIOPsky0MclYL7p2XZuBU9MlunfWcDekw9mZNLT93a+Ev+n5pvhv3+7oG2MFZj79Vw/dVUp17M3msHQAmyhGQwtwBaawdACwhIi3ZWOeju0mDvEfMao8gJDoXQBZEwH1NkBN6ReSmedEY0LHYVa2+NbMBAc0yzXtvQQ6De9iMLBQFH3A33+NBM7vpcKHSvZ0pz07rZsA4RLzcqPOjKwfC7+Q1loh9av4biCxgE+RAwTuSH/JAefMt5on6cLPK4Z+M6btR4HUu+Q/uacc77D8L70ZeQrTu/LOTtb9P8c/LIyBfpepccxh/lIYr3tsjeS71U9fT9D8IlraFf0dFanco4g1GPcwBZHjW41zUcKPpqvh+imK/AVncFg+NBhC81gaAEhmotEOlcmSkSmI4ZD0WSjIKn6Q48ukEDodVGAueK0GRLA9/rEDNlOcJtB/r4mkyqGhMhVShQYTB6lEDMM0QUphMQjbSdcvTZu2lu39LU9oNGvazFFyVpRDH3nMtUHl3ZdyCLYrPVx86n8lk6lL9CF9ADcdfFpKwEZFFHE9x0hx6VEK8qPxGzKU31+D56rENIUAnrGjuGcw6G+L+EQtlpGxMiABFrMHEjXeg+il8g5E2L23z+Wa5fABiGyjQPr1oUjfY5qI532RjMYWoAtNIOhBYR5hWaT7kSCMBlbKhKIq7XLYUewsJKB7sqBpDtVNpo+SQzX2o04wiTt0xTf6/p/SAjRyoTMsgB+XUhkXkw0zdfLpl1sdIh2e1uikMmdM9WHhNgItEvCig1tOW5BFJsKInWo0UKWrooUxzt6rjJg1Uxncv6IkkeBAOOivu6rVpBwiQwSuvE13JiAkkd9sFvPIfH4rGLtD2mH5HZ04Raev6eZPotcPpfgFihWjnMuh/viU8JyhGwh9I1oIVTwXK1IuySJzXQ0GFqFLTSDoQXYQjMYWoDK56xp5zwMxZ+gfDeXA6uhhJhnzOwPWMpJovs22fu32VfsQui/Q+H9FXzEBIOYs0wBPR1Hdz76KBRiDsFf9CB5NFtov2DQBWY4nX+2kmM9oKH3Kaxegd/Ewj09GGNeITtdHeYi2NaIKFmyty/nqNdyb9Pswdspjpgygz0InZ/JfJTkQ2Uwxs1c+y7I3CjA6aFHTJGA1rc1M74L2bWdLc3KD7dlUhYLebAWR9o3x6wN3moZwl6UB5sazNhZwNyV9Ox0L1nip8HQKmyhGQwtIIxhd9wjU6MAk5Ak91wFr1MlHU4WWw9CufRmdQWQhzEM2yETdgzhVZ9MFCQ0byDc3CPyMUbSY+rD3f6A4uVoZqbwvWylzZAQwvvzWptKsyWY2V3YFhlR+H0h7SGFm0ew7XCWgaaH00AGT3JMOhtgDu09Jr/r+MeaMVGCiV8TFSLYF3MoBpN+udKmNFJISnquqgd8uJBkCtPIJnLaAbJwh2YBXh8puDh8/hDsRZYLD8fyOz24nzX9THcKOiw0xjCG7QNnMBg+dNhCMxhagC00g6EFhFeelITFozc1rSgDygq5NWqFYh8xpFwAPK4F6fadQukdTPYMiSOeIlGeaEsYxlcJnZT4idHyiGK5MRQdiEdaBiYGdaE1jGu51sZ60JEQsxdrXf4UpILiBKk96jC3AMqOV5JqYi3+VQQ/hpNpS/ATirW+aeUtuZ+bJ6HWgU9iQuAfLqiU13IDvxt0+MktdT5o73skaIM+m/Kb+BmD27QkXzGdio+8Q3tKJQQUEsguLkjhJ4LtFc4cwFQQ7Aoox2UEIkSk6+Q6gVGwDIZWYQvNYGgBYWcfdrbf0p34tvbo1c3aCc0JSZ4ZX/+zhT4WqydhhDYv9bmXYAYW9K8BhbnHYDqekc4gJox2OAxbi2nXI22KpCcHz8E2qMjOqWMx9WKqGYWy3T043zLVWwQRaGssKTQ/VKYwmGx0G1C6o6R5HAGzJYTk1GJB9xZspZjuZw3inygn73PKL1i+rJmIrkalKraSCQj3mtn1PfjcI02SAB6KLsx9v9AmPT6rLHmPkuAqu5PLksFxNemmZJBNYm80g6EF2EIzGFpAmHXhHU9RsGINeg4XliTsiGNUpkPRIST9ahU2FanKQDuCWSjqNc6y4tC1XUO0iUzdEbCbLz18TfW98OInmnZ/f1v1VVAJ8vO/9bmmvVnQjwHzqBxoKbqsEtny9SFU/yS5uS4kSLJuSgplUBXR4gNEWjKKBG6g7xrI+yWenvC3IUroJWQOgXmEUm5YWdM552owdUNO1gWTrYIHKyIy9mhHHsjsUM9VDHOXneq+6IqY7iUKydAzUQKzpfyAeUTT1yOyN8rU+aQ70h+Y6WgwtApbaAZDC7CFZjC0gLDXFUPeZ1sabM4i4+Q9aaOeTUS746iHwqV9EJhYesFexnAzh4DB7kZtwUmgT5KoZENtS3f2Dpp2MKLsVEg/WEM4vnek5yOC31aNdBg5q4RNUZzIDw0pOTWbQdImbZ8oIRn3YN8iQAls8mfRvziG0PPVkT6uDyydNc3VWpXNenB5pxpLctE40EdD9zAISYtzCJ9pa8ibwe8kH20F4+pCsiuTP/DaJf0ADwWQ8D6Rn9fx5IHfVHq7JoPn0d5oBkMLsIVmMLSAsMpBR4ITIqFdsWiICsvKn2nj3KEK8wUTAhmx8HqOiSTaCTBcq002JD57YEeF2npzIVBU/K4O4d+5OYWL6f89a+BZRx0RpuzNdBV170wO7O5q9uoOVJpJl3JcTVshqOBdb/QcFBguf7AciiIZcyF5NDkXYF5NiYB9AOe4W+pzLGGQtUNzlvQfHxAed44KokKX72lGTQ5bKy59MPE54IfuBBJjYYsgHpBWDNiSKdngNWiBYMVWj+zP81TuZ3lhjVh432BoFbbQDIYWYAvNYGgB4fF78iGbk4hKjna2hg9hTtQBJNk7pdd4kfEPflnnwVQc/JTVbEvDGOHAuKeF/q9/5heb9rWXXlJ9i0xCtCy+Mr76fNN+6W+J43f+9a+q4/yV+BD9qz3VF0NSaFWITd9JaJsBdDTXVP0yzcTZRT1CTshFMZ2MOjH/MgBn7u5GHzeBYU3I/9lAIm8GfTnXM4KvdTp6z2fQlwdmPZMJ75A2PkbLk8uaH5ify7G5LnWgKIEp+HkF+WFYBTYk/ypH8SmIR3DWRgHPS8ZbEBCUsDeawdACbKEZDC0gXLwtH8qCwrBY0okiqF14k3chHL8iUybHsDRrPqOZAwXLc9K6wIgqh/dxWFs9Mdle+OW/qY575Gc/07SrSO/go9nDCYw+CElee/65pr29O1HHnbzzPRmjd67HCGbs0c2Tpt3bISYEMOA9SlMo0VyE+8SMBryFAZng67XMHWpbUt6nixMx9fxMj8OHDF3MIqhpHKhrEnPNL/AnsHRVRVouIJNy4blKQEfTo+yDeiOJvAVoi3S1Ne76oLt4Rg9nBJonEWzDZPRqQj2UkEhFNcrcO4PB8KHDFprB0AJsoRkMLSBcgooNi6NEKq1aG9rI9EfBnNWafAuI90fkd/jg+EVd1OLT4eDNCrKLyUfDMV7/+AtN+9KLH9PjCEBUxuns6ALLqFL4NgDKkR+KrxXv6u2DYSX+292Tb6q+3YeF8nXjjZtNe6llNF2GjHemBEG2+wD8At4xUTKJFLJOkdkPX6yZ1g5h74B81m3YhunA1srhqb4vXdCv7Axo22gFPiaWTiI/L19I36Cvs9YrH7ZMtikLArIsvI1syZzNtG+ewLbGE/TMZcBzuwW1DrIPEBrqk0/sFkhRMxgMHzpsoRkMLSBM4HU3HmtzCFWpF7PpA0+C8oRZVj/wOJavRnZzCVsE8zUJ34Cp0acQ8LVdyVp84kUxHb2ufo17gQyyctqEQG3usqbsVNzXQOnsiE1paQ/6V1VfvSc2YtIT0cGy0DSUFGLzFTHq+wNIMJzJ/PCUovXl079RFI/ZQLycouOu6EhfQvPtI3sf3QIyPz0Iicel7uuMZBumjmBLg1kuYNp59GNqUHYqSOQIJ6XugltQ6pSO2anM/xklPU9TOecqkGv16LmqYB4752Sqh2Y6GgytwhaawdACQkyITEgOe57Kq5UlkyuwUZA47FHZQx8iZFT40XlwjmohJltAll0HzJL9vh5jDUTcYABkXhovmkdsbvkYXa31/x4PiLM1FE6v6cfUngw6Jn2/wY5QHHYOJCn0+B6RaIFInFF0tQI9xQTIqjFValGjp5BkCOY5ll4vydxfQtUfv6u6HAQTlUz8kJIq0ayMqZh7cU3MfS+VkURUqSUC83nj6WLxdYkRVD3GGiOZcOPLrj5wDm7BYk6RaEi87eRADibWUgKR0fOOvmd1z0jFBkOrsIVmMLQAW2gGQwsIUf/99rHOoIOopktIrxGt0QIFeFgfj2n/eHHlGyFbgDTSYV/geKNDuUEu2XYZCOb4bo/GIbY6s711HJwFbbBypXyvpoTITkeYC/P5bdUX92XM+w+Nm/bsSFNDluDs+qRLWakySA8GRtlrYpeUoDMYQnXRlKjxC2C8D5x20lJgvGMm6WZNjAm49uaA5gqunXhCec9W2jn3Aphv2iJASkYQ6PtZgqBQBEKjnqfPX6CPRnPgwXznmMFAwQogLTlvQ89+ahU/DYZWYQvNYGgBIZp6zImMsSQNFyXHt6Qyo/TrEwui9yZ6XQ93xWyowQxZnWp2xvK+vNYxedE55/qBbEHcfkOyWC89+5Q6DnU7ykozMjxfGANs6IawT+AD/SOjUDSWWbp9Q5dOvfoROcf+1XHTvv/6kTpuA2HkjLY40vz9t0mqDxB55CqtHjBPkEwREqujgHj5yUrPFXIrUOJ9RWHvrSH8Fk74hVKvtdKeIXIw6KSw6Yj6ipx0ito0WS7nQNPZOedyDyS7yRXYgoTfXU/u+91cP5s5XCumrS1vbrqOBkOrsIVmMLQAW2gGQwsIE7CLfSobin4Zl+UpwUb2gZcTkp2NYWQXaht5U4ENDufvTLSt29sWX+7khqbiLM/F2Xj5m99q2gdPP6mOu/4JSQRNoh3Vh2Fkv9b7GGi7VwX4Zake47uvvNK0f/zyj1TfaP960+6NJVy+8SkhEua/LPleQHkqcNKYGvfgjQodco9hayXpaX/zfCkOYlHrexZAreQEkkBTYr8XIG7DJb/yU6E7xSO5dkAjjsEPrinxGEv8BpRhgL5YDj5VsdH+VQnPI+/41CHUe4BnneleKFYUUF8YWnjfYGgVttAMhhYQTsbyipwu9OsZy9BUtCRV9BlYDBdMGTAlq5U+yQboDmhi+mTKdPrSt31Ni+fdnQkz5OhINBP/93/7r+q4OBCT8EmQB3dOby2wrqODsPr6fN60b3/ti+qwt7/yR007XWjzdnEoDJDxc8Lez8keXwPFJuxoU6wG8cUKQ9vug6DPgYm3FdynzCMdFmT5Uw4ult7Cs/d6+sbneKtJJz6dwfzkcq87I60LEkNYvXLa7MOpK3PaC4HLoX5IScm0uPvhUZbCJpJn8x4+jnTcNpj4darPj8+3vdEMhhZgC81gaAHh5ONiygQ3tZ2wOpTX7jlFjpAZglIanNyZQtSK2SXFEgYCxF6s8OmclvRimesuVKrf7Yt5+MQumQnTV5v2/VenNA4xS5ItnVga+DI/86mYplV5Sx2HstFDkrA4viXm7eMvPNy0D/Z1ZdDTI5ESD3t6sqK+/O41mPRM2g4gGsc0FzQdU2RJECsix4/0rxijbhswlUpKQA16Mo9c8RPHlUJJ2KLSJneZQKIt6YJka1WmSJ8/ks9K5v6CNB+4DAk9c+DypLlcOyDtkhmGGkn0xC+NGWIwtApbaAZDC7CFZjC0gHCwLUIp/S0du1xCWLp6c6n6ZjOV7dk0WUIarVb232oIt+YQTq0ybY+HkYT0V1Md5t0eCZ/88mPio62Jof+97wlrZPblv1B9Q9D+i3raR+uD+MoIsgH9bdqC2JH/WZf7eguidvK9upQxHlzeVce98R1JGE0paROJ4SpflkoiJVjF0hHQnwNna87/biHuzfmWKMSUKx9NDySG+kZRTBfAQYPPU3v63q4rOa7y9DPhA6umoAcL5c4xg6FiyXuYDyXQROcoVVv/zgLO6VEGQyeWZ9PeaAZDC7CFZjC0gNCDUGi+1q/uU6g0k+Wk1YFy3vA2rTikDG1mMWAlEaih7tJAj2MDr+ScNENiMB3fPlzAcSTZvQIZbcpEfLcLrJREh5ifAS2MbdhKODzVpukd0AysiNnSPZRrb0TWxG1d1romHdieWK30OCoInwdIciXTMcREW87kfQCrY8akXzAJfW1JK3u0AiJxeME8BNOO5hv1MZEs7RMhvYJx1VTlB4u216SvoqL9sHXB1ZJ82O8oiL1S4vmRQcJ7VPAY5KSPucql095oBkMLsIVmMLQAW2gGQwsIp4fiC9x+81x1zs9AZ5CEXpBxg5FXn2ozJRGEb4kTtAQHIwN2+tla+2FJH+xnYrxPoYRRANcaUjJgH/wCr0/afFvi5+UlaQsCH2kGl56Sb1SAf5GRPzGHRMrpkWyTTB6aqOO2J+OmXW4OVV8Ofs4Axp8Tux5rHfQ6+ncWGKaG7QNyiT8wJQBpSyiQ4+j5cEo8h/wr1KgE2lKeEoUphKqkF0YCepusJQq/DYV6AvI3K9haCCi8j0JGeKupBIDWcqT5jiELwt5oBkMLsIVmMLSA8K1vnzYf8pxC4qiETGHNEiW8VdUjesmDCedRXwR9ORQbLyhMigXiEzJNMdSNSZv9DpmOoMexod8y7MEO/pJCxbXYOWdgHt5fkPYkmCG+LpzqskLsu3vv3WnaV68/pI57+NFHmvb0lpZnr0IJFavRkznkw5wmZMqo0DSUJUqIdT6H5wBNf+ecy+HYAsyrmkzHAEL/Ad0zvJxibuREHULNmpBcF5xv2lPCTJAaTLuSzOwSEl5rYragnEsM5ie7RtUYmDi0nRJGcnPsjWYwtABbaAZDCwiR4BkRCxUlmlkKLIdi2lgkkxkCJbxNK9rBxwqU/gzZDmwmSN/wiraVItCo9sAcCik6pOwtrrICCihRRMRQMI8W8NNWXJ/ck8lLqLrJKhWb5fY7x037edKwmFwRpsjWzpbqOzmXpFM07Ti5c5nJtTt0Pwsw90MwgXokFReugCjLct4wB0pqhObDjzDqSINEcxGL05CWG36vZsoRFJkP6YeWECleg4k/IMYOmp9eqk3HDjyr9QBk9ej5xkTQXJOFXLoxZojB0CpsoRkMLcAWmsHQAsIIkh45dOmBXbw5YeERaSfbIKkd63NEsfhUYUd1uXQFJXXKi3v/zTgC9NGIkQ7DKmGMnVyPA0v7+H3dt8rElh5ocoyrwT9EM76g8QaQfLg10bLiHvzwqpI0hfmZTqbdvixMkZLnCrYZFPGEfKMVjGtOGQwdEN3EpMcesWgCOOmaqli6+P3Fbi4k9QLLI6BnQpHowQ/zKISvTsnSjbAN42uCjev1gA2yJ8/f3mPavw+7ctLVoZ6D1aFcfQTP3GSsj5sfy7XuvEHakyi37wwGw4cOW2gGQwsI0YQgWQaXCWnElRsyHfsYjpe/R5F+/XsR7L4TEbcC0wbJn7z6owBDxSS7DOzeECosOqq+iIl8KyKQBms5/4RknVFLAsfPmh4lapnc1HMVgrkVQNmS2almf+xe3pdx7Gk9keM7si1QQKZtzfcM5n9FY+yBzDhWluknxKIBVs2KKqyGGI6HKa6ZmIyfmXAMoX9F0uEQPnzvQiXWAM+hx7j7qEiLd/vSLunZWazFTygSMvtgd2UJtOKM1kEA+ptJT49xOYcEV2cwGD502EIzGFqALTSDoQWE3SWwscmUzgqxP7sdHRrNIL6/ATu+ICHAIBbbl0xp1wH/JwCuT5eoQzHQYTaUcZku5XMMNn5FyYZIDE/X+v9LD3ToezQHOfqHIOBScQlUDHWTGE0FE9utxbE5e+9EHec/B77inhbucfUPm6YqzMo0K/BFU8rGQKp/CA5WRNS4/YH0zclnRca+Svyk+UAaHbO4QvC4oDLTBR1KpO/5Hfad4VqUjXH3hmyhDA+Eizfa1k5UAN/DGIFzzilp0aUcVxJNDJ/plHQdQ8iesDeawdACbKEZDC0gXMMrc02771gPPU7IHHqQ1h2ZjuVGxW9VXxcIFEh47xBDBdn7+Uq/4vtQ1LuXvn8Y3TnnqlJsgXyhY+JdMF8iuvYK9i5KsD9j0ghUZ2SrEj6vIA6+OD1Wx1WFmDnbB7qgfQwM9RSqWHLcG4dFMp0OKx+BRKWLPArvQ/h9t6/7zqEq7AjmeEWJk3ibOCkUze4S7tkFgj5sOwSk+YjM/oLM2xxC8GtwLc5Hc3VcAiH8iphEqDuC2wK8jbEEZoijMW5BXq+90QyGFmALzWBoAWFvIpVP6rV+BQfw+txQpmOFVSfBfvE58bPC3XEyCeFVG4GJkrM5hMmGKSUpYuWT6gG0BaclzvZJu2QLLphT3yFEENF63qEKkWcobU0/IB7KWPbAtuuudaZgsZAo5HaiK9I83t9u2mGFMoD6WvNKbJt5oc9fAqPEB4Kxz4mZeD+pBwvcFzDfe6TRcncl11oXdN/xI94/lptBqfmMo47gJnTIrISh4COxPidmyBEQnx0B7iHqzdRE9u5AdDvaIhO5MmaIwdAqbKEZDC3AFprB0AJC0JRxo8va71hBKHc1JbY62M8B+DV1qEP4GNquKMw7hzA7liWq2JdTDAR9/j6ISiYQbmYZ6gxi7kQycH1ox6STOAffABkIS9YxhI/blbb4Ly1ljJ8Mhk37sVIz9B/5ExHx2e9pFsM/fvyXmnYvkhF7vr5nC2DYvLk8VX1vpDeb9o2l6EuelzrsnUOaQkL3Mwa/egqZsFlN/7PxvhPrAn1u/BYzSNIZ+DiUPBrAzw444wI1JcHVTYbqMOcVIAVP/lsBczDsySiLrh4H+oBlQL8AtgLsjWYwtABbaAZDCwhXc9DEONLUkOVMTLuOlsFwHhAmcaff9x+8w86mQalYzBBS9h/8evbIDAmx+iWcY0NVLA+B1RGQjuE+MBBWFOcFmUS3AjPycqVNto/UEn5/tOyrvokTM/CT25eb9gu7++q4LpiVfkfrOrqtcdOsO135e0fHm/eB2fI4/R/9K3DseS33+ta9G+q41370l037G4c/Vn3frSRZ8scr0TzZVJoygZtBF2rRq/Is0mSeNsq9l1peRScAk1mZw70eDEEbZUdfIPVkDsKJvvEBaILPIHnZIxMZ5cjrJW1tQfkhe6MZDC3AFprB0AJsoRkMLSBMU7GtN5S4hgmLGbF0MKTfgUj0cKB9l+URJIUWROPCpEow1ikyr/yyHv1vKHM5Zwo66DNKekRtyDH5gBHY+GcUKl4D5etF8L1eLLV/tetdadpdcjaG8bhpP7N3qWn3d0fqOLctx7mB7vMGEJvG0H9EzjNOXqXnIIC+yQiEgB5+Wh333PVPNe2/8dYPVd/hW99v2j/IF03796fvqOO+eveNpj3NdCEEnB2sQso+WoyJkz7dd0jC9TuUjAn3E7cnwL38v+OaSl8d64tvXZLnOFAD075cD5KXT0+0n7qZA+XNGQyGDx220AyGFuB1usJpQE0M53QSYZdMwh5WOoQI8/JIm4cpsN/p7e8CkKLGBECfxEt6YAqQbKQbQOJnH8yEO6RHOIdhfZIyDB7bEjrI9ygptJyLafZ3K8nk2/WvquMiT0y7LpkX46GYgT/17IGM9xFtfrq+mIQeiwR2YcugCxMeaioLFnOvA55wOBbMIY+2CFxPrlXHXdVV3H63aVdf/FzTTulaXw0kc+B33vuu6vvG/Teb9v3lTK5FLgNqekQ9PafIFAnJ7AtR1wQoTMuVOsytILnBo4TfDjBAEnheBlt6vseQtZAd6Wfu3srKNhkMrcIWmsHQAlQNeK7uiNVlRgNKpAQT5fQuVP+kc1SYhEcXL9BUheMCSmb0US6ckhSHATJDIImQ/oV0oeh5QDbsfTA1ZpRg+JNu3LS3PakC3+uM1XE5/PCAsgNVRBXNyrE+h4uBAdsl0xHZziiTxmbfUBglXnjBVpfvqdAf6Yr3xFz0RpqhEg7FRC7gN8f//bfUcb8EUdLP/sI/Un3fWUuC66996Teb9jcO31bH5WgG04OFEcnNgiXx5Fh8wDP6mQEUdw+JLZTDwTEEfPu79PyNZI5vnVOkG4Kt9kYzGFqALTSDoQXYQjMYWkCI8tUsUJKAluCEbPX37kmyYIQiJBR/X4G9zCFULL0TQ3i4T2IrISQYeiT+F4KeIJYpSonlH0Ei3yYifxNEJT9C2YG/GAnbvsCd/q72jcKNGOQdYmv0QCQnPIMky5R9IxS3JN8rhnNG4K8N9X1Rfl9Id/RcqBEeyKB79P+23kDcO9ECPx74juFzH23a1bevq+OK13/UtHuvvar6Pv30c/Lho7/cNP/pn/8nddw7mTBPMvKd81OZO5JTVL8m6Mu8+cSUyaBsWEXPFfqALofET9oCy0DEhzNGUDLd3mgGQwuwhWYwtIAQCbs1hdVDMOHunmhGZgGv3f5QXs9Fqk2NQSyv4A4l6I0gNJpACDw91a/gAsdFlU8ckJtRKZuLlw88DLGz/okc/Nf3H1N9V6diKr29EVOmHunwewjmc2eszc9La8laDC9BZXMy7bwtSR5VohjOXQz3/39s1vrzXfjc06wONBddCQTYUF/LA5O2XhGd4powYjwgNwdPPasOK94U9ke+1lmb8VyepZ+5Kt/7J0//gjruX7z2haZ9WmrCLiaPkoSn2kZabcA859cKalQSGylMUHcEtrLu6Gez3JGrLch0DOCc9kYzGFqALTSDoQXYQjMYWkAYAvuYbd0MBOt9Ksc03pfvhSDFsqz02q0WYsP2qQRQAgIo41wufodK46C/1SGqjKJdQQQ8JPrRGOgwxCZzOfh2T421j9aHy3VS2IKgLMUu0LoORtpH278qvpcPyZ7e1Wt6ICDWU2cUVg/hx0HNJY98YuWznZJ/hVsEMN4LLP+BUM0uUN4hbF/viC6l39OJqkFH6GRZrX0Xfyk+WrQj2Qy/8sRPqeO+cEu2Bb50oulZyKKjcgkug2e1gC0fpt4FsK3DFT9TqB2ANR0q2pE5PQM/jPYZAvQjncFg+NBhC81gaAEhVujOyQqpcnktbm/rNdkFVgeGQiMy2WZgsiWkibcHr+47c7EX1zmF3+G1PiRJZt9D0xfMVDpuAtsHO6QZsq7EzHlo/2HVF2yJuXW0lsnap7D6wZaYi5OfeET14baGB1kEbkdLgqNOiJdqnQ2lko6h/4gYJH0w4Uqyc9BGBpPboxtfT6fygUxYl8k5vLdel7+v9XzUcG8jqsfkLSHcPxGzuk/bEc8Mxaz8s7N39PnBXuStHIzUq+qixAzB6q5sPZdcfrQ5N5Vmgin26LlFD8XeaAZDC7CFZjC0gBCLMVLgxXUh2ZBzA09AqivuqZIx6rjdibAHnh1R5BJMqgWQkWdckRsHTJGjEP5XrKFCeUHJgMALdVOqBPOxKx9p2peuPqn6PKi0OQOJ9EuZHuPOPlTkfEpHLt1UEh0dRONqkPl2zjlvDAThmkqf5HA9LOXT1ZVB3RJMTpZ5A/vIWwLLpdAmFcrU1QmxS957R/qQNXJ8pI4L4Vr1ntZGCcY78gEYH/5Em9J/7/pPN+23zm+pvj9d3G7aazJNUS7cQzeBnm+07agoj654A6eIKbKI7lWuFfWVy2NvNIOhBdhCMxhagC00g6EFhKh5ElJiZg62bzHXTloHqyBCfLVLmonbiRjCn9zaU31rT+zzlw8Pm3btaf8nAfuZk/wWKAkOfl50IfFT2hWxV372KWEkdA+uqL56V0LM12+Kn9BJtG/k5RDeZpluYN57oPHohgN9XA9C9ayPjfWjMGwfkXOBcWrOAIB7XQN7pb59po/7+tekTdLq7lT8TR+vtbOjDque/gk57rpOCnUjyGDA+0S+1hNPvdC0/zkl2qbf+J2m/eWjd1VfDs8jhvc9qiSL8YSA2EKFOof8nW8Lvqpwm8s55yqQk7c3msHQAmyhGQwtIOwCw7ac6S32AkwUlvPG0GUEewQlWStnCwkxv1ro5NGzvpgld+Yon0yS4HBOn8QnCwjVl5AUuk0WzwT0IKOOJsA+eeWppu09qSureFDqNHlESMAe2xqH95tmvdZEXEy4rIdj+TvJeSvtRo9tFPiMFW9SbWbX5yKx7c5OVJ9D1s5CjvO+9XU93rtSSP6CrXRVZNHdZTCzr2hGjQMWUD3U8+3viQ5LfYLbAto98T8i5udjBweq719dF/bN5a//F9X3e9/6VtM+zcSkj/ROhaKUFMTqQLK6apKuKE6PR89+1DXT0WBoFbbQDIYWYAvNYGgBIdqi3oBC4h+wDEvwIdZwXEY2fe6J7/X9YqovPgf99CUw9GmLoIN0GPK9kEYzGcmHnTmx/EGPbzLUlKDJJfEv/CuXVV9186Z82AKK1HyujvOw7OnZqR7jvlT59JDS1CE/r49GPpe/hEk4AT81JXEe1IN89y3d98ZrMg4cf0mTCr55faDnyvvsL8oHSNqsA9rSODqWvpKyA2IYY1e2OLyj++o4tVXxsKa1PXFFfLR/+fgnVd8k/vdN+9/+6W/DGIldD+WeYsoAQL1GNT10W9Bl452WGCpt2RvNYGgBttAMhhYQVhDi9CnajBoiXKw7wMRPeGUGRN0oUjn/MiATBQkJqF0y0OfIsBg4sfIDoF0HGzlus9HXWgMFeyvRLIbeBMLNa0q4vC+MFRXmXWjT0Yd5rJmBACz9OhGzyRtyoXcO6QOUHQ9anBvKdDgB8+vGG6rLWwhjHxNLWc/TXQXtxpc+o/s+/ry0UUdm/QFCL0d3dN8QWDU+mOMzquZ+PpUxjjSLxpuMpW+m5222kO/FYC5mtGWiPrGsOGjTIBGnpHsUQwg/YulNuJ690QyGFmALzWBoAbbQDIYWENYoLkL+FTKCWDwP9esxG7XK9TmG4Ntx+dLlrvgoA9A3zyqdqnoI9BgO71fH8gOqUzluQLZ0Cdd+PtBM8KAPcVikMDnn6rNp0/ZWIipzQTwngMkaT3RfH9j7B+AfsgDMFMLgJCBUw73xRjL++q1jdZz3v/6nnOKcthlQyxEda8r0di99Vtov6tC5w+0JmDa31P6ml8jnaj1VfTVQwfy+nK++pGlW9Xsyx+WRzuB++0evNO3//NX/ofp+95UvyTng7yHTp6DXp/l2WKZAJUToLRk/BJa/PoNK4rA3msHQAmyhGQwtIPTh9VZRsmS+QmET3Zf05RVanMt6DcjE7B6IiZJRpU0MzWeZmIBlTusfws85beH7Y8giOAGhFCrDcw7R593xJdUXAJuivndPXxoY8F4hJ/ESHcutRyLOU4+3VZ83Bvb6JTC97hKrA7cITsjsA3GeeluSNr3Xf6CvNZvCoPQpajQdrwqzwvsZHcKvHxexIo/EeZRYIZT18kgyvoZMEL+rhYbqHLYWErA/9/W8IcPm1T/7gur6Z38k7I/X14eq7xyeY9xlCEk8B8uSFfTcVvDMeWrbSz9/uCxC2q0JjBliMLQLW2gGQwsIPXhlXpCpwIgkFRW5BKbjEqyGUJMu3BLMFTbnXCXmUAYJjP4HJNdx4p3rwedz0DghUyaCrLynH3tG9amqp/fu6j7QYXTb8uPqXW1+IhvE40qeqAWC5OAtHf2sz8VMrb/2FX2Ohx6Fccj46xOd3Ik6hnWgqT41FJKvH5bzeT9JkcUzjKjSfGNkeg43hiLKHhKm97VWTA062h7atwmxcq9KFHL/CZ2Q29+TufOP9LU7qZwHNUOyC+Rp1BPRQBKJ/wGkYnS9fJLYxCi+vdEMhhZgC81gaAG20AyGFhAi254FSpC93x9qv6OEj/lIjNiMlm4A9nhAJUXRfi4gMTNwvIMPmvFUXwdZKTnQXCpyOC9DguEj+zqJsL71HpxQj79+SJJCvSEwzUl7H5kQjtjwdQ/6NpBUuaIQ/ue/KKeYLXQfhOPdDUno9KYkwAMiNvVTz+q+++B/QhXLC+x9nFRm5WOCJ2o+XqhyBH9IdVzdS8XhryH+7tH2D/q9c6rN1BtLe0LC+aubcr0a3VQKv+focPErB4aPpw/JRwugfgRVJVPunL3RDIYWYAvNYGgBYXEOIUgiVobwOSG58BXoK+ZopqW8wy7tgnfVPQyvgsQ4bQOEkPgZd3RI3FtLXwkmj0f6j3s9qMgZENsBw76gu+icU2WWsMQQC6rkpZgryyPNLukvJMM12BbCsXdMZt+Vx6Wt+bXOfVe0Ct3tG9J+9HF93E+/JOdnRsbrohniXgYtxx++SeMQM7VeEHtlhfofYH4WZEoPhDlTU/kobyXnrDfSN8/0tb7y559v2r/1Va3d+LXbUrbJT/S9qJU5B6ap00CL2aOkZ9wZCXHrhgqgDqAU2Zq3pcA8tzeawdACbKEZDC3AFprB0ALCciV25GhbG6oRrMNBqNfkGSiWlOhTXaiMA3Yq+Xk++jmQQBd4OsyLZVrLBemzA0s8BCpV5enxPrP/aNMedvuqTyVZcqmjfaFdZRCwfef176vDTt75oVz73m3V9+zDH23aWz/1c02bpXiUX7OhkHgFfs4uUJpAk9I55+p9KE9LgjZu8ilpz0AZ6Y+/pA6rP/tXm3bJPjGIEvk9mUdvQsz7AkLs9EuP78v8vPztrzbtL7z6J+q4l88kubPa1j53AMz76Vz7hyj174G/dmEHApn3F3w02PYCHaaaMgA8KAG21dXP3AloEtkbzWBoAbbQDIYWEPahImeR69dzH8zFPlkhKby61yKl4Spm18MpKyJPY/jTA3nmkJgKGZi3NWURBBv5XgDbDETed1cOhA2SZfr9X4FEdV7oUPTZOz9q2r/zZZGX/vLrf6mOS1fC5HhxRzNPcvjhz+2Mm/ZoZ1cdF+1K6L8+X6o+98xz0gYmi0eVR909SYL06KbVkJlYf/QTTXt9T+sunn5Nwur9a3r7YPyElFLyYLujuKflvNewdfPFP/mc6vv8X/xu0/7B6dtNe0VaMQU8B7OpNj8LcBOY2OKDkYiVXmek/4jZKSG/cjCpALQbe2QeHt2Ve3v1Ed23e0nsUXujGQwtwBaawdACvE/sdJqXZEbRoS5EXnp7+v28UBUoZb2eMesSGJkbig45MBeLAMzIi7YANIkFAMl7NZiRBXFyH+2KzPUnu7og/JUr0nfY12O8dywRsldvfK9pz5Y6+ulg/JNtbbIddISJchBKxPCZA53M+Ow1SegsltpGHgMp+vnHxHw7eORJdVwNstpFX0dX041MyvqemJ+LuS4Wf3suEnbv3L+p+kZQQaYA+b0bdzW75L25jOMv77ym+s4LoVegbgcFm10IScPnJPGeg4sSE1k4GYI2CtyXe7f1OTIg0VOurqsg+LyzIyZgTLHLo2Mxd+OuPskjj8jA7I1mMLQAW2gGQwuwhWYwtADvyljq2uyPtI0ZA3Nje0t1uXOMnx+LQXvlIe0XXIJw9tlS+2/fvCv2/7QG34i0ldFnqzm7TpnMUDWUmOu/8tLfbtp/8PufU31nqN0Y6TEGIN+IspcVbTPsgD/08LWrqm8G+x/LuUiOz2c6hB9v5LdFxKLZHouP9txE2PWfvv5pdVwNt/DW6Q9V3wzqZJ2ciI95e6rHcZxPm/Z0o8tToXe7DyWRTjJ90+7ATeRioHOYuxEI8vQ6eu57kWy7rDLtX92ai2+Ukh7p3kTO6fWl7+xIjxGTCnJKLMXE4UsHQBsh1/z0TJ7bip7Nq3uy9WJvNIOhBdhCMxhagPfQ02IrBRMymwpZhwdzzUBYJWLanN6Qd/DPPav1DkdOQrmXDzTx9JVD0cz4xjmEni8QaqVd0v8GZAF4NVT2yKgyTiav/xVV9SyBuYEaEM455wOnViUKbvQ4ngNS7fFK25XHEJruJTKOOYXwPfjZHRpHAlUyg0DMlXymTZ6kD+b+ge6bQbWdu4fQ16W56sk5OjSPT8MkDGDu3yDTcQGmb49oF0ewzbPdFTNvLyFdGmiz5ugsFxtuRTLxGZDcMQmUVL9dtpDvJYn+nTPoG43lnlG9eXd2is+qPsdOz5ghBkOrsIVmMLQAW2gGQwsI/S0oiUSGcAHO0X2nqUmTROL98VD6jt7TFSg3PsRD5zqMPIHKm8+OJGR9o9TVHbNy2rTXCz3GFz4uyYw3bore4f0zLZCTgc5/1NVZfvt7l5s2svCdc+6xx6837Xfefr1pL53+LTdWQjkqSVxoA1SfDehB8n+5AHwlf1v3BhCmLqAEZUF68sMd+bykBIBbEN4uwB2KKekRXF2nN0mc60OS7Ax+5zzUflLsyb5ITnqhBQgZbcC3IxkgV8J2TZrq34lJIlFH+0an4F/54KNNJjqpdwn+bZc0R/fH8jkIoI+cNB98Vp94XOsPkI00GAwfAmyhGQwtIExBFzEiucMKwvuFlo5wxxmYWDtyjpMT/YpfzqXvxpneVl/VYix86uc/BX/X7JIbP/5O097u6f8ND/X2m/bkY8Jb+MN7f6AHDEmmv/oP/qHq+jt//1eb9q//m3+t+j7z6Z9v2r/5H3+9aW+W2tDpDCS8f/0jT6i+46kwYG6+JWZxttHmeDSWdtDTZkgO498sYDuCWBE4rGNtxbsUMh1i0EL0KSxdQKLtFulX4hbKESQKL0o9jgkw2Utfm5VAyncdYIMExMrxQV9+7unnqoJjC2LpoPxmAeZnTKWlxhOxmUe7+uHPzuC3TWU7aEDsqR78zk1KuqXw0d5oBkMLsIVmMLSAEOW4asrLrHLpqygptIIqMX1MwqOcTZQSp+CTW4El+bU//+OmfbKmJD8glMahvsC3vveHTdv3hJUS+zqU1u8Ls/VRqtb58IGQgJ98UidjvvJNkc6+PBHT9BOf0mTel78jUmnhjg73DXZkzAeRmMVHN3WEMy/kd5bn2swGdT9XreQ4Cva5DRC3UyLAqnxamOKUTJ4hmJIsoZbBvT6BajJckUZVZvX0QPa3Jfo3hvuClUCdcw4DjVVPnz+D58pbU7VRoIB4EBklK9v5YEouTrXW9/RYFkMKz59H9JLBQOYnpEpHa2AE2RvNYGgBttAMhhZgC81gaAFhB8jHVHHJJRsJXV5jrUWo8vlsJHZ2n1gXNbBNzk60L1CuZJ2frsVG9it9HH46OtP+W2coP2B6LkI665XOAEjBVv93v/Frqq8/FP7DAPWknXO/952vNO3eRBj0+92JOm70pPQdplon0Q8hufGSHLeb6N959zXx7VYzEsGE8DnqH5Fb7TLoizr6/ygW1AyBrZ7O1GFuBI52TD7JITwkKZxvkDC9BPzqSPteE2C1l1Dp9SgjvxQLj9I4sNjosKcZH13wD2dLmSFS81a+6YLmu4TnFucxp3EsgSlT0xYYiovaG81gaAG20AyGFhAWUJLTD/Tr84lHRA76MlV+vO3datreQnbOe7FOEM2BaPnuTG/hn4A5twaWwf7OjjpuCsXG00yHzudL+d7HPiZ6h7duklYh6JPMNzrx8zd++z807f4lLXDhPyZmSZbIeF+98111nMpOpf9fYSVzUMN8RwNta2w/Kuc4fk3PdwWJjg7ktnnLxAMCbG+gTaoCTLMaYt0BkcnHYA55xPiYYrgcjuNtl7CWa+0OtVmZwfjvROIyrGmvwodKLVwFFrVj4r7+nWEu5yxzJGDrMW5BkmyHzp+D5mgO4y1pjwA/ezQHDtg99kYzGFqALTSDoQXYQjMYWkA4gNDuuKNt3ZEnjOZoS9ufAYjTQITWhSSwsgQ61ZB0+QOw8ZeQRbBLlUeHS7lWdqJpS1gyqgANwp19HX5/DzTko0T/zvVo2rRXFdF5wMdUJakq/T8Kv8Ua8qj358H/trqmsPSu+Gz9fe0vr27L/JSgQcjUp/GW3DMuMTQt0UeTv1PepENJyTn5gEugLWGCK4bpndM0q0FH++23MrlPOSRScrmuosDfrMeRFHJsn/qiAYjpQFB/Q9qN57A3UtM5kKJWoSvNiZ8O/Tc9/srY+wZDu7CFZjC0gP8Dfhn83uw+w5IAAAAASUVORK5CYII=\" y=\"-8.740469\"/>\n   </g>\n   <g id=\"matplotlib.axis_1\">\n    <g id=\"xtick_1\">\n     <g id=\"line2d_1\">\n      <defs>\n       <path d=\"M 0 0 \nL 0 3.5 \n\" id=\"m3f56c28c07\" style=\"stroke:#000000;stroke-width:0.8;\"/>\n      </defs>\n      <g>\n       <use style=\"stroke:#000000;stroke-width:0.8;\" x=\"28.62375\" xlink:href=\"#m3f56c28c07\" y=\"226.740469\"/>\n      </g>\n     </g>\n     <g id=\"text_1\">\n      <!-- 0 -->\n      <g transform=\"translate(25.4425 241.338906)scale(0.1 -0.1)\">\n       <defs>\n        <path d=\"M 31.78125 66.40625 \nQ 24.171875 66.40625 20.328125 58.90625 \nQ 16.5 51.421875 16.5 36.375 \nQ 16.5 21.390625 20.328125 13.890625 \nQ 24.171875 6.390625 31.78125 6.390625 \nQ 39.453125 6.390625 43.28125 13.890625 \nQ 47.125 21.390625 47.125 36.375 \nQ 47.125 51.421875 43.28125 58.90625 \nQ 39.453125 66.40625 31.78125 66.40625 \nz\nM 31.78125 74.21875 \nQ 44.046875 74.21875 50.515625 64.515625 \nQ 56.984375 54.828125 56.984375 36.375 \nQ 56.984375 17.96875 50.515625 8.265625 \nQ 44.046875 -1.421875 31.78125 -1.421875 \nQ 19.53125 -1.421875 13.0625 8.265625 \nQ 6.59375 17.96875 6.59375 36.375 \nQ 6.59375 54.828125 13.0625 64.515625 \nQ 19.53125 74.21875 31.78125 74.21875 \nz\n\" id=\"DejaVuSans-48\"/>\n       </defs>\n       <use xlink:href=\"#DejaVuSans-48\"/>\n      </g>\n     </g>\n    </g>\n    <g id=\"xtick_2\">\n     <g id=\"line2d_2\">\n      <g>\n       <use style=\"stroke:#000000;stroke-width:0.8;\" x=\"62.59875\" xlink:href=\"#m3f56c28c07\" y=\"226.740469\"/>\n      </g>\n     </g>\n     <g id=\"text_2\">\n      <!-- 10 -->\n      <g transform=\"translate(56.23625 241.338906)scale(0.1 -0.1)\">\n       <defs>\n        <path d=\"M 12.40625 8.296875 \nL 28.515625 8.296875 \nL 28.515625 63.921875 \nL 10.984375 60.40625 \nL 10.984375 69.390625 \nL 28.421875 72.90625 \nL 38.28125 72.90625 \nL 38.28125 8.296875 \nL 54.390625 8.296875 \nL 54.390625 0 \nL 12.40625 0 \nz\n\" id=\"DejaVuSans-49\"/>\n       </defs>\n       <use xlink:href=\"#DejaVuSans-49\"/>\n       <use x=\"63.623047\" xlink:href=\"#DejaVuSans-48\"/>\n      </g>\n     </g>\n    </g>\n    <g id=\"xtick_3\">\n     <g id=\"line2d_3\">\n      <g>\n       <use style=\"stroke:#000000;stroke-width:0.8;\" x=\"96.57375\" xlink:href=\"#m3f56c28c07\" y=\"226.740469\"/>\n      </g>\n     </g>\n     <g id=\"text_3\">\n      <!-- 20 -->\n      <g transform=\"translate(90.21125 241.338906)scale(0.1 -0.1)\">\n       <defs>\n        <path d=\"M 19.1875 8.296875 \nL 53.609375 8.296875 \nL 53.609375 0 \nL 7.328125 0 \nL 7.328125 8.296875 \nQ 12.9375 14.109375 22.625 23.890625 \nQ 32.328125 33.6875 34.8125 36.53125 \nQ 39.546875 41.84375 41.421875 45.53125 \nQ 43.3125 49.21875 43.3125 52.78125 \nQ 43.3125 58.59375 39.234375 62.25 \nQ 35.15625 65.921875 28.609375 65.921875 \nQ 23.96875 65.921875 18.8125 64.3125 \nQ 13.671875 62.703125 7.8125 59.421875 \nL 7.8125 69.390625 \nQ 13.765625 71.78125 18.9375 73 \nQ 24.125 74.21875 28.421875 74.21875 \nQ 39.75 74.21875 46.484375 68.546875 \nQ 53.21875 62.890625 53.21875 53.421875 \nQ 53.21875 48.921875 51.53125 44.890625 \nQ 49.859375 40.875 45.40625 35.40625 \nQ 44.1875 33.984375 37.640625 27.21875 \nQ 31.109375 20.453125 19.1875 8.296875 \nz\n\" id=\"DejaVuSans-50\"/>\n       </defs>\n       <use xlink:href=\"#DejaVuSans-50\"/>\n       <use x=\"63.623047\" xlink:href=\"#DejaVuSans-48\"/>\n      </g>\n     </g>\n    </g>\n    <g id=\"xtick_4\">\n     <g id=\"line2d_4\">\n      <g>\n       <use style=\"stroke:#000000;stroke-width:0.8;\" x=\"130.54875\" xlink:href=\"#m3f56c28c07\" y=\"226.740469\"/>\n      </g>\n     </g>\n     <g id=\"text_4\">\n      <!-- 30 -->\n      <g transform=\"translate(124.18625 241.338906)scale(0.1 -0.1)\">\n       <defs>\n        <path d=\"M 40.578125 39.3125 \nQ 47.65625 37.796875 51.625 33 \nQ 55.609375 28.21875 55.609375 21.1875 \nQ 55.609375 10.40625 48.1875 4.484375 \nQ 40.765625 -1.421875 27.09375 -1.421875 \nQ 22.515625 -1.421875 17.65625 -0.515625 \nQ 12.796875 0.390625 7.625 2.203125 \nL 7.625 11.71875 \nQ 11.71875 9.328125 16.59375 8.109375 \nQ 21.484375 6.890625 26.8125 6.890625 \nQ 36.078125 6.890625 40.9375 10.546875 \nQ 45.796875 14.203125 45.796875 21.1875 \nQ 45.796875 27.640625 41.28125 31.265625 \nQ 36.765625 34.90625 28.71875 34.90625 \nL 20.21875 34.90625 \nL 20.21875 43.015625 \nL 29.109375 43.015625 \nQ 36.375 43.015625 40.234375 45.921875 \nQ 44.09375 48.828125 44.09375 54.296875 \nQ 44.09375 59.90625 40.109375 62.90625 \nQ 36.140625 65.921875 28.71875 65.921875 \nQ 24.65625 65.921875 20.015625 65.03125 \nQ 15.375 64.15625 9.8125 62.3125 \nL 9.8125 71.09375 \nQ 15.4375 72.65625 20.34375 73.4375 \nQ 25.25 74.21875 29.59375 74.21875 \nQ 40.828125 74.21875 47.359375 69.109375 \nQ 53.90625 64.015625 53.90625 55.328125 \nQ 53.90625 49.265625 50.4375 45.09375 \nQ 46.96875 40.921875 40.578125 39.3125 \nz\n\" id=\"DejaVuSans-51\"/>\n       </defs>\n       <use xlink:href=\"#DejaVuSans-51\"/>\n       <use x=\"63.623047\" xlink:href=\"#DejaVuSans-48\"/>\n      </g>\n     </g>\n    </g>\n    <g id=\"xtick_5\">\n     <g id=\"line2d_5\">\n      <g>\n       <use style=\"stroke:#000000;stroke-width:0.8;\" x=\"164.52375\" xlink:href=\"#m3f56c28c07\" y=\"226.740469\"/>\n      </g>\n     </g>\n     <g id=\"text_5\">\n      <!-- 40 -->\n      <g transform=\"translate(158.16125 241.338906)scale(0.1 -0.1)\">\n       <defs>\n        <path d=\"M 37.796875 64.3125 \nL 12.890625 25.390625 \nL 37.796875 25.390625 \nz\nM 35.203125 72.90625 \nL 47.609375 72.90625 \nL 47.609375 25.390625 \nL 58.015625 25.390625 \nL 58.015625 17.1875 \nL 47.609375 17.1875 \nL 47.609375 0 \nL 37.796875 0 \nL 37.796875 17.1875 \nL 4.890625 17.1875 \nL 4.890625 26.703125 \nz\n\" id=\"DejaVuSans-52\"/>\n       </defs>\n       <use xlink:href=\"#DejaVuSans-52\"/>\n       <use x=\"63.623047\" xlink:href=\"#DejaVuSans-48\"/>\n      </g>\n     </g>\n    </g>\n    <g id=\"xtick_6\">\n     <g id=\"line2d_6\">\n      <g>\n       <use style=\"stroke:#000000;stroke-width:0.8;\" x=\"198.49875\" xlink:href=\"#m3f56c28c07\" y=\"226.740469\"/>\n      </g>\n     </g>\n     <g id=\"text_6\">\n      <!-- 50 -->\n      <g transform=\"translate(192.13625 241.338906)scale(0.1 -0.1)\">\n       <defs>\n        <path d=\"M 10.796875 72.90625 \nL 49.515625 72.90625 \nL 49.515625 64.59375 \nL 19.828125 64.59375 \nL 19.828125 46.734375 \nQ 21.96875 47.46875 24.109375 47.828125 \nQ 26.265625 48.1875 28.421875 48.1875 \nQ 40.625 48.1875 47.75 41.5 \nQ 54.890625 34.8125 54.890625 23.390625 \nQ 54.890625 11.625 47.5625 5.09375 \nQ 40.234375 -1.421875 26.90625 -1.421875 \nQ 22.3125 -1.421875 17.546875 -0.640625 \nQ 12.796875 0.140625 7.71875 1.703125 \nL 7.71875 11.625 \nQ 12.109375 9.234375 16.796875 8.0625 \nQ 21.484375 6.890625 26.703125 6.890625 \nQ 35.15625 6.890625 40.078125 11.328125 \nQ 45.015625 15.765625 45.015625 23.390625 \nQ 45.015625 31 40.078125 35.4375 \nQ 35.15625 39.890625 26.703125 39.890625 \nQ 22.75 39.890625 18.8125 39.015625 \nQ 14.890625 38.140625 10.796875 36.28125 \nz\n\" id=\"DejaVuSans-53\"/>\n       </defs>\n       <use xlink:href=\"#DejaVuSans-53\"/>\n       <use x=\"63.623047\" xlink:href=\"#DejaVuSans-48\"/>\n      </g>\n     </g>\n    </g>\n    <g id=\"xtick_7\">\n     <g id=\"line2d_7\">\n      <g>\n       <use style=\"stroke:#000000;stroke-width:0.8;\" x=\"232.47375\" xlink:href=\"#m3f56c28c07\" y=\"226.740469\"/>\n      </g>\n     </g>\n     <g id=\"text_7\">\n      <!-- 60 -->\n      <g transform=\"translate(226.11125 241.338906)scale(0.1 -0.1)\">\n       <defs>\n        <path d=\"M 33.015625 40.375 \nQ 26.375 40.375 22.484375 35.828125 \nQ 18.609375 31.296875 18.609375 23.390625 \nQ 18.609375 15.53125 22.484375 10.953125 \nQ 26.375 6.390625 33.015625 6.390625 \nQ 39.65625 6.390625 43.53125 10.953125 \nQ 47.40625 15.53125 47.40625 23.390625 \nQ 47.40625 31.296875 43.53125 35.828125 \nQ 39.65625 40.375 33.015625 40.375 \nz\nM 52.59375 71.296875 \nL 52.59375 62.3125 \nQ 48.875 64.0625 45.09375 64.984375 \nQ 41.3125 65.921875 37.59375 65.921875 \nQ 27.828125 65.921875 22.671875 59.328125 \nQ 17.53125 52.734375 16.796875 39.40625 \nQ 19.671875 43.65625 24.015625 45.921875 \nQ 28.375 48.1875 33.59375 48.1875 \nQ 44.578125 48.1875 50.953125 41.515625 \nQ 57.328125 34.859375 57.328125 23.390625 \nQ 57.328125 12.15625 50.6875 5.359375 \nQ 44.046875 -1.421875 33.015625 -1.421875 \nQ 20.359375 -1.421875 13.671875 8.265625 \nQ 6.984375 17.96875 6.984375 36.375 \nQ 6.984375 53.65625 15.1875 63.9375 \nQ 23.390625 74.21875 37.203125 74.21875 \nQ 40.921875 74.21875 44.703125 73.484375 \nQ 48.484375 72.75 52.59375 71.296875 \nz\n\" id=\"DejaVuSans-54\"/>\n       </defs>\n       <use xlink:href=\"#DejaVuSans-54\"/>\n       <use x=\"63.623047\" xlink:href=\"#DejaVuSans-48\"/>\n      </g>\n     </g>\n    </g>\n   </g>\n   <g id=\"matplotlib.axis_2\">\n    <g id=\"ytick_1\">\n     <g id=\"line2d_8\">\n      <defs>\n       <path d=\"M 0 0 \nL -3.5 0 \n\" id=\"m454c06f25a\" style=\"stroke:#000000;stroke-width:0.8;\"/>\n      </defs>\n      <g>\n       <use style=\"stroke:#000000;stroke-width:0.8;\" x=\"26.925\" xlink:href=\"#m454c06f25a\" y=\"10.999219\"/>\n      </g>\n     </g>\n     <g id=\"text_8\">\n      <!-- 0 -->\n      <g transform=\"translate(13.5625 14.798437)scale(0.1 -0.1)\">\n       <use xlink:href=\"#DejaVuSans-48\"/>\n      </g>\n     </g>\n    </g>\n    <g id=\"ytick_2\">\n     <g id=\"line2d_9\">\n      <g>\n       <use style=\"stroke:#000000;stroke-width:0.8;\" x=\"26.925\" xlink:href=\"#m454c06f25a\" y=\"44.974219\"/>\n      </g>\n     </g>\n     <g id=\"text_9\">\n      <!-- 10 -->\n      <g transform=\"translate(7.2 48.773437)scale(0.1 -0.1)\">\n       <use xlink:href=\"#DejaVuSans-49\"/>\n       <use x=\"63.623047\" xlink:href=\"#DejaVuSans-48\"/>\n      </g>\n     </g>\n    </g>\n    <g id=\"ytick_3\">\n     <g id=\"line2d_10\">\n      <g>\n       <use style=\"stroke:#000000;stroke-width:0.8;\" x=\"26.925\" xlink:href=\"#m454c06f25a\" y=\"78.949219\"/>\n      </g>\n     </g>\n     <g id=\"text_10\">\n      <!-- 20 -->\n      <g transform=\"translate(7.2 82.748437)scale(0.1 -0.1)\">\n       <use xlink:href=\"#DejaVuSans-50\"/>\n       <use x=\"63.623047\" xlink:href=\"#DejaVuSans-48\"/>\n      </g>\n     </g>\n    </g>\n    <g id=\"ytick_4\">\n     <g id=\"line2d_11\">\n      <g>\n       <use style=\"stroke:#000000;stroke-width:0.8;\" x=\"26.925\" xlink:href=\"#m454c06f25a\" y=\"112.924219\"/>\n      </g>\n     </g>\n     <g id=\"text_11\">\n      <!-- 30 -->\n      <g transform=\"translate(7.2 116.723437)scale(0.1 -0.1)\">\n       <use xlink:href=\"#DejaVuSans-51\"/>\n       <use x=\"63.623047\" xlink:href=\"#DejaVuSans-48\"/>\n      </g>\n     </g>\n    </g>\n    <g id=\"ytick_5\">\n     <g id=\"line2d_12\">\n      <g>\n       <use style=\"stroke:#000000;stroke-width:0.8;\" x=\"26.925\" xlink:href=\"#m454c06f25a\" y=\"146.899219\"/>\n      </g>\n     </g>\n     <g id=\"text_12\">\n      <!-- 40 -->\n      <g transform=\"translate(7.2 150.698437)scale(0.1 -0.1)\">\n       <use xlink:href=\"#DejaVuSans-52\"/>\n       <use x=\"63.623047\" xlink:href=\"#DejaVuSans-48\"/>\n      </g>\n     </g>\n    </g>\n    <g id=\"ytick_6\">\n     <g id=\"line2d_13\">\n      <g>\n       <use style=\"stroke:#000000;stroke-width:0.8;\" x=\"26.925\" xlink:href=\"#m454c06f25a\" y=\"180.874219\"/>\n      </g>\n     </g>\n     <g id=\"text_13\">\n      <!-- 50 -->\n      <g transform=\"translate(7.2 184.673437)scale(0.1 -0.1)\">\n       <use xlink:href=\"#DejaVuSans-53\"/>\n       <use x=\"63.623047\" xlink:href=\"#DejaVuSans-48\"/>\n      </g>\n     </g>\n    </g>\n    <g id=\"ytick_7\">\n     <g id=\"line2d_14\">\n      <g>\n       <use style=\"stroke:#000000;stroke-width:0.8;\" x=\"26.925\" xlink:href=\"#m454c06f25a\" y=\"214.849219\"/>\n      </g>\n     </g>\n     <g id=\"text_14\">\n      <!-- 60 -->\n      <g transform=\"translate(7.2 218.648437)scale(0.1 -0.1)\">\n       <use xlink:href=\"#DejaVuSans-54\"/>\n       <use x=\"63.623047\" xlink:href=\"#DejaVuSans-48\"/>\n      </g>\n     </g>\n    </g>\n   </g>\n   <g id=\"patch_3\">\n    <path d=\"M 26.925 226.740469 \nL 26.925 9.300469 \n\" style=\"fill:none;stroke:#000000;stroke-linecap:square;stroke-linejoin:miter;stroke-width:0.8;\"/>\n   </g>\n   <g id=\"patch_4\">\n    <path d=\"M 244.365 226.740469 \nL 244.365 9.300469 \n\" style=\"fill:none;stroke:#000000;stroke-linecap:square;stroke-linejoin:miter;stroke-width:0.8;\"/>\n   </g>\n   <g id=\"patch_5\">\n    <path d=\"M 26.925 226.740469 \nL 244.365 226.740469 \n\" style=\"fill:none;stroke:#000000;stroke-linecap:square;stroke-linejoin:miter;stroke-width:0.8;\"/>\n   </g>\n   <g id=\"patch_6\">\n    <path d=\"M 26.925 9.300469 \nL 244.365 9.300469 \n\" style=\"fill:none;stroke:#000000;stroke-linecap:square;stroke-linejoin:miter;stroke-width:0.8;\"/>\n   </g>\n  </g>\n </g>\n <defs>\n  <clipPath id=\"p0edd14b387\">\n   <rect height=\"217.44\" width=\"217.44\" x=\"26.925\" y=\"9.300469\"/>\n  </clipPath>\n </defs>\n</svg>\n",
      "image/png": "[encoded data removed]"
     },
     "metadata": {
      "needs_background": "light"
     }
    }
   ],
   "source": [
    "# Exemple d'une image\n",
    "index = 30\n",
    "plt.imshow(x_train_orig[index])\n",
    "if classes[np.squeeze(y_train[:, index])] == b'cat':\n",
    "    print(\"y = \" + str(y_train[:, index]) + \", ceci est une photo de chat\")\n",
    "else:\n",
    "    print(\"y = \" + str(y_train[:, index]) + \", ceci n'est pas une photo de chat\")"
   ]
  },
  {
   "cell_type": "markdown",
   "metadata": {},
   "source": [
    "Beaucoup de bugs en deep learning proviennent du fait que les dimensions de matrices/vecteurs sont incorrectes. En y faisant attention, vous éviterez de nombreux bugs.\n",
    "\n",
    "\n",
    "**Exercise:** Trouvez les bonnes valeurs de:\n",
    "    - m_train (nombre d'images de train)\n",
    "    - m_test (nombre d'images de test)\n",
    "    - num_px (longueur/largeur d'une image)\n",
    "    \n",
    "Rappelez vous que x_train_orig est un numpy array de la forme (m_train, num_px, num_px, 3). Par exemple, vous pouvez accéder à `m_train` en écrivant `x_train_orig.shape[0]`."
   ]
  },
  {
   "cell_type": "code",
   "execution_count": 11,
   "metadata": {
    "scrolled": true
   },
   "outputs": [
    {
     "output_type": "stream",
     "name": "stdout",
     "text": [
      "Nombre d'exemples de train: m_train = 209\nNombre d'exemples de test: m_test = 50\nLongueur/Largeur de chaque image: num_px = 64\nChaque image est de size: (64, 64, 3)\nx_train shape: (209, 64, 64, 3)\ny_train shape: (1, 209)\nx_test shape: (50, 64, 64, 3)\ny_test shape: (1, 50)\n"
     ]
    }
   ],
   "source": [
    "### Début du code ### (≈ 3 lignes de code)\n",
    "m_train = x_train_orig.shape[0]\n",
    "m_test = x_test_orig.shape[0]\n",
    "num_px = 64\n",
    "### Fin du code ###\n",
    "\n",
    "print (\"Nombre d'exemples de train: m_train = \" + str(m_train))\n",
    "print (\"Nombre d'exemples de test: m_test = \" + str(m_test))\n",
    "print (\"Longueur/Largeur de chaque image: num_px = \" + str(num_px))\n",
    "print (\"Chaque image est de size: (\" + str(num_px) + \", \" + str(num_px) + \", 3)\")\n",
    "print (\"x_train shape: \" + str(x_train_orig.shape))\n",
    "print (\"y_train shape: \" + str(y_train.shape))\n",
    "print (\"x_test shape: \" + str(x_test_orig.shape))\n",
    "print (\"y_test shape: \" + str(y_test.shape))"
   ]
  },
  {
   "cell_type": "markdown",
   "metadata": {},
   "source": [
    "**Résultat attentu pour m_train, m_test and num_px**: \n",
    "\n",
    "<table style=\"width:15%\">\n",
    "  <tr>\n",
    "    <td>m_train</td>\n",
    "    <td> 209 </td> \n",
    "  </tr>\n",
    "  \n",
    "  <tr>\n",
    "    <td>m_test</td>\n",
    "    <td> 50 </td> \n",
    "  </tr>\n",
    "  \n",
    "  <tr>\n",
    "    <td>num_px</td>\n",
    "    <td> 64 </td> \n",
    "  </tr>\n",
    "  \n",
    "</table>\n"
   ]
  },
  {
   "cell_type": "markdown",
   "metadata": {},
   "source": [
    "Pour des raisons pratiques, vous devriez transformer vos images de la forme (num_px, num_px, 3) en un numpy array de la forme (num_px $*$ num_px $*$ 3, 1). Après cela, nos jeux de données (train et test) seront des numpy array dans laquelle chaque colonne représente une image applatie (\"flatten\" en anglais). Il devrait y avoir m_train et m_test colonnes.\n",
    "\n",
    "\n",
    "**Exercise:** \n",
    "Transformer les jeux de données de train et de test de façon à ce que les images de la forme (num_px, num_px, 3) soient applatie en simples vecteurs de la forme (num\\_px $*$ num\\_px $*$ 3, 1).\n",
    "\n",
    "Petite astuce: lorsque vous voulez applatir une matrice X de la forme (a,b,c,d) en une matrice X_flatten de la forme (b$*$c$*$d, a): \n",
    "```python\n",
    "X_flatten = X.reshape(X.shape[0], -1).T      # X.T est la transposée de X\n",
    "```"
   ]
  },
  {
   "cell_type": "code",
   "execution_count": 12,
   "metadata": {},
   "outputs": [
    {
     "output_type": "stream",
     "name": "stdout",
     "text": [
      "x_train_flatten shape: (12288, 209)\ny_train shape: (1, 209)\nx_test_flatten shape: (12288, 50)\ny_test shape: (1, 50)\ncheck 1 random après reshaping: [182 188 179 174 213]\ncheck 2 random après reshaping: [20 16  3 22 15]\n"
     ]
    }
   ],
   "source": [
    "### Début du code ### (≈ 2 lignes de code)\n",
    "x_train_flatten = x_train_orig.reshape(x_train_orig.shape[0], -1).T\n",
    "x_test_flatten = x_test_orig.reshape(x_test_orig.shape[0], -1).T\n",
    "### Fin du code ###\n",
    "\n",
    "print (\"x_train_flatten shape: \" + str(x_train_flatten.shape))\n",
    "print (\"y_train shape: \" + str(y_train.shape))\n",
    "print (\"x_test_flatten shape: \" + str(x_test_flatten.shape))\n",
    "print (\"y_test shape: \" + str(y_test.shape))\n",
    "print (\"check 1 random après reshaping: \" + str(x_train_flatten[5:10,1]))\n",
    "print (\"check 2 random après reshaping: \" + str(x_train_flatten[17:22,34]))"
   ]
  },
  {
   "cell_type": "markdown",
   "metadata": {},
   "source": [
    "**Résultat attendu**: \n",
    "\n",
    "    x_train_flatten shape: (12288, 209)\n",
    "    y_train shape: (1, 209)\n",
    "    x_test_flatten shape: (12288, 50)\n",
    "    y_test shape: (1, 50)\n",
    "    check 1 random après reshaping: [182 188 179 174 213]\n",
    "    check 2 random après reshaping: [20 16  3 22 15]"
   ]
  },
  {
   "cell_type": "markdown",
   "metadata": {},
   "source": [
    "Pour représenter des images en couleurs, les canaux rouges, verts et bleus (RGB) doivent être spécifiés pour chaque pixel, et la valeur de chaque pixel correspond en fait à un vecteur de 3 nombres compris entre 0 et 255.\n",
    "\n",
    "Une étape de préprocessing assez courante en machine learning est de centrer et normaliser votre jeu de données, ce qui signifie que vous allez calculer la moyenne de tout le numpy array, puis diviser chaque exemple de ce jeu de données par l'écart-type. Pour les images, il est plus simple et plus pratique  de diviser uniquement chaque ligne du dataset par 255 (la valeur maximum d'un canal de couleur). Vous vous retrouvez alors avec un numpy array comprenant des nombres entre 0 et 1.\n",
    "\n",
    "Normalisons notre jeu de données:"
   ]
  },
  {
   "cell_type": "code",
   "execution_count": 13,
   "metadata": {},
   "outputs": [],
   "source": [
    "x_train = x_train_flatten/255.\n",
    "x_test = x_test_flatten/255."
   ]
  },
  {
   "cell_type": "markdown",
   "metadata": {},
   "source": [
    "<font color='blue'>\n",
    "    \n",
    "**Ce que vous devez retenir:**\n",
    "\n",
    "Les étapes courantes de préprocessing:\n",
    "- Analyser les données en affichant les dimensions et les formes du jeu de données (m_train, m_test, num_px, etc.)\n",
    "- Transformer les jeux de données de façon à ce que chaque exemple devienne un vecteur de dimension (num_px \\* num_px \\* 3, 1)\n",
    "- Normaliser les données"
   ]
  },
  {
   "cell_type": "markdown",
   "metadata": {},
   "source": [
    "## 3 - Architecture générale de l'algorithme d'apprentissage ##\n",
    "\n",
    "C'est le moment de construire un simple algorithme pour reconnaître un chat d'un non-chat d'une image.\n",
    "\n",
    "Vous allez construire une régression logistique, tout en suivant le mindset (l'état d'esprit) d'un réseau de neurones. La figure suivante vous explique pourquoi **la régression logistique** est un réseau de neurones très simple !\n",
    "\n",
    "<img src=\"images/LogReg_kiank.png\" style=\"width:650px;height:400px;\">\n",
    "\n",
    "**Expression mathématique de l'algorithme**:\n",
    "\n",
    "Pour chaque exemple $x^{(i)}$:\n",
    "$$z^{(i)} = w^T x^{(i)} + b \\tag{1}$$\n",
    "$$\\hat{y}^{(i)} = a^{(i)} = sigmoid(z^{(i)})\\tag{2}$$ \n",
    "$$ \\mathcal{L}(a^{(i)}, y^{(i)}) =  - y^{(i)}  \\log(a^{(i)}) - (1-y^{(i)} )  \\log(1-a^{(i)})\\tag{3}$$\n",
    "\n",
    "Le coût est ensuite calculé en additionnant toutes les **losses** (pertes) de chaque exemple.\n",
    "$$ J = \\frac{1}{m} \\sum_{i=1}^m \\mathcal{L}(a^{(i)}, y^{(i)})\\tag{6}$$\n",
    "\n",
    "**Etapes clés**:\n",
    "Dans cet exercice, vous allez traiter les étapes suivantes:\n",
    "    - Initialiser les paramètres du modèle\n",
    "    - Apprendre les paramètres au modèle en minimisant le coût\n",
    "    - Utiliser les paramètres appris pour faire des prédictions (sur le jeu de données de test)\n",
    "    - Analyser les résultats et conclure\n",
    "\n",
    "N'hésitez pas à appeler l'un des assistants si vous avez besoin d'aide."
   ]
  },
  {
   "cell_type": "markdown",
   "metadata": {},
   "source": [
    "## 4 - Construire les différentes parties de l'algorithme ## \n",
    "\n",
    "Les étapes principales pour construire un réseau de neurones sont:\n",
    "1. Définir la structure du modèle (comme le nombre de features (fonctionnalités) en entrée)\n",
    "2. Initialiser les paramètres du modèle\n",
    "3. Boucle:\n",
    "    - Calculer la perte actuelle (forward propagation)\n",
    "    - Calculer le gradient courant (backward propagation)\n",
    "    - Mettre à jour les paramètres (descente de gradient)\n",
    "    \n",
    "### 4.1 - Fonctions utiles\n",
    "\n",
    "**Exercise**: \n",
    "En utilisant votre code du workshop dernier (sur Python et numpy), implémenter la fonction sigmoïde. Comme vous l'avez vu dans la figure précédente, vous avez besoin de calculer $sigmoid( w^T x + b) = \\frac{1}{1 + e^{-(w^T x + b)}}$ pour faire des prédictions. Utilisez np.exp()."
   ]
  },
  {
   "cell_type": "code",
   "execution_count": 14,
   "metadata": {},
   "outputs": [],
   "source": [
    "def sigmoid(z):\n",
    "    \"\"\"\n",
    "    Arguments:\n",
    "    z -- Un nombre scalaire ou un numpy array\n",
    "    \n",
    "    Return:\n",
    "    s -- sigmoid(z)\n",
    "    \"\"\"\n",
    "\n",
    "    ### Début du code ### (≈ 1 ligne de code)\n",
    "    s = 1 / (1 + np.exp(-z))\n",
    "    ### Fin du code ###\n",
    "    \n",
    "    return s"
   ]
  },
  {
   "cell_type": "code",
   "execution_count": 15,
   "metadata": {
    "scrolled": true
   },
   "outputs": [
    {
     "output_type": "stream",
     "name": "stdout",
     "text": [
      "sigmoid([-1, 0, 0.5, 2, 3]) = [0.26894142 0.5        0.62245933 0.88079708 0.95257413]\n"
     ]
    }
   ],
   "source": [
    "print (\"sigmoid([-1, 0, 0.5, 2, 3]) = \" + str(sigmoid(np.array([-1, 0, 0.5, 2, 3]))))"
   ]
  },
  {
   "cell_type": "markdown",
   "metadata": {},
   "source": [
    "**Résultat attendu**: \n",
    "\n",
    "sigmoid([-1, 0, 0.5, 2, 3]) = [0.26894142 0.5        0.62245933 0.88079708 0.95257413]"
   ]
  },
  {
   "cell_type": "markdown",
   "metadata": {},
   "source": [
    "### 4.2 - Initialisation des paramètres\n",
    "\n",
    "**Exercise:** \n",
    "Implémentez l'initialisation des paramètres dans la cellule suivante. Vous devez initialiser w comme un vecteur ne contenant que des 0. Si vous ne savez pas quelle fonction numpy utiliser, renseignez vous sur np.zeros() dans la doc de numpy."
   ]
  },
  {
   "cell_type": "code",
   "execution_count": 16,
   "metadata": {},
   "outputs": [],
   "source": [
    "def initialize(dim):\n",
    "    \"\"\"\n",
    "    Cette fonction crée un vecteur de zeros de shape (dim, 1) pour w et initialise b à 0\n",
    "    \n",
    "    Argument:\n",
    "    dim -- size du vecteur w qu'on veut (ou le nombre de paramètres dans ce cas)\n",
    "    \n",
    "    Returns:\n",
    "    w -- vecteur initialisé de shape (dim, 1)\n",
    "    b -- nombre scalaire initialisé correspondant au biais\n",
    "    \"\"\"\n",
    "    \n",
    "    ### Début du code ### (≈ 2 lignes de code)\n",
    "    w = np.zeros((dim, 1))\n",
    "    b = 0\n",
    "    ### Fin du code ###\n",
    "\n",
    "    assert(w.shape == (dim, 1))\n",
    "    assert(isinstance(b, float) or isinstance(b, int))\n",
    "    \n",
    "    return w, b"
   ]
  },
  {
   "cell_type": "code",
   "execution_count": 17,
   "metadata": {},
   "outputs": [
    {
     "output_type": "stream",
     "name": "stdout",
     "text": [
      "w = [[0.]\n [0.]\n [0.]\n [0.]\n [0.]]\nb = 0\n"
     ]
    }
   ],
   "source": [
    "dim = 5\n",
    "w, b = initialize(dim)\n",
    "print (\"w = \" + str(w))\n",
    "print (\"b = \" + str(b))"
   ]
  },
  {
   "cell_type": "markdown",
   "metadata": {},
   "source": [
    "**Résultat attendu**: \n",
    "\n",
    "w = [[0.]\n",
    " [0.]\n",
    " [0.]\n",
    " [0.]\n",
    " [0.]]\n",
    " \n",
    "b = 0\n",
    "\n",
    "Pour les images, w doit être de la forme (num_px $\\times$ num_px $\\times$ 3, 1)."
   ]
  },
  {
   "cell_type": "markdown",
   "metadata": {},
   "source": [
    "### 4.3 - Forward et Backward propagation\n",
    "\n",
    "Maintenant que vos paramètres sont initialisés, vous pouvez écrire les étapes de forward et backward propagation pour apprendre les paramètres.\n",
    "\n",
    "\n",
    "**Exercise:** Implémentez la fonction `propagate()` qui va calculer la fonction de coût et son gradient.\n",
    "\n",
    "**Indices**:\n",
    "\n",
    "Forward Propagation:\n",
    "- On vous donne X\n",
    "- Vous calculez $A = \\sigma(w^T X + b) = (a^{(1)}, a^{(2)}, ..., a^{(m-1)}, a^{(m)})$\n",
    "- Vous calculez la fonction de coût: $J = -\\frac{1}{m}\\sum_{i=1}^{m}y^{(i)}\\log(a^{(i)})+(1-y^{(i)})\\log(1-a^{(i)})$\n",
    "\n",
    "Voici les deux formules que vous utiliserez: \n",
    "\n",
    "$$ \\frac{\\partial J}{\\partial w} = \\frac{1}{m}X(A-Y)^T\\tag{7}$$\n",
    "$$ \\frac{\\partial J}{\\partial b} = \\frac{1}{m} \\sum_{i=1}^m (a^{(i)}-y^{(i)})\\tag{8}$$"
   ]
  },
  {
   "cell_type": "code",
   "execution_count": 21,
   "metadata": {},
   "outputs": [],
   "source": [
    "def propagation(w, b, X, Y):\n",
    "    \"\"\"\n",
    "    Arguments:\n",
    "    w -- les poids, un numpy array of size (num_px * num_px * 3, 1)\n",
    "    b -- le biais, un nombre scalaire\n",
    "    X -- matrice de size (num_px * num_px * 3, nombre d'exemples)\n",
    "    Y -- le vecteur correspondant aux labels (0 si non-chat, 1 si chat) de size (1, nombre d'exemples)\n",
    "    \n",
    "    Return:\n",
    "    cost -- coût\n",
    "    dw -- gradient de la loss de même shape que w\n",
    "    db -- gradient de la loss de même shape que b\n",
    "    \n",
    "    Conseils:\n",
    "    - Ecrivez votre code étape par étape pour la propagation. np.log(), np.dot()\n",
    "    \"\"\"\n",
    "    \n",
    "    m = X.shape[1]\n",
    "\n",
    "    # Forward Propagation (de X à cost)\n",
    "    ### Début du code ### (≈ 2 lignes de code)\n",
    "    # calcule l'activation\n",
    "    A = sigmoid()\n",
    "    # compute cost\n",
    "    cost = None\n",
    "    ### Fin du code ###\n",
    "    \n",
    "    # Backward Propagation (pour trouver les gradients)\n",
    "    ### Début du code ### (≈ 2 lignes de code)\n",
    "    dw = None\n",
    "    db = None\n",
    "    ### Fin du code ###\n",
    "\n",
    "    assert(dw.shape == w.shape)\n",
    "    assert(db.dtype == float)\n",
    "    cost = np.squeeze(cost)\n",
    "    assert(cost.shape == ())\n",
    "    \n",
    "    grads = {\"dw\": dw,\n",
    "             \"db\": db}\n",
    "    \n",
    "    return grads, cost"
   ]
  },
  {
   "cell_type": "code",
   "execution_count": 19,
   "metadata": {},
   "outputs": [
    {
     "output_type": "error",
     "ename": "TypeError",
     "evalue": "sigmoid() missing 1 required positional argument: 'z'",
     "traceback": [
      "\u001b[0;31m---------------------------------------------------------------------------\u001b[0m",
      "\u001b[0;31mTypeError\u001b[0m                                 Traceback (most recent call last)",
      "\u001b[0;32m<ipython-input-19-4f3be59995eb>\u001b[0m in \u001b[0;36m<module>\u001b[0;34m\u001b[0m\n\u001b[1;32m      1\u001b[0m \u001b[0mw\u001b[0m\u001b[0;34m,\u001b[0m \u001b[0mb\u001b[0m\u001b[0;34m,\u001b[0m \u001b[0mX\u001b[0m\u001b[0;34m,\u001b[0m \u001b[0mY\u001b[0m \u001b[0;34m=\u001b[0m \u001b[0mnp\u001b[0m\u001b[0;34m.\u001b[0m\u001b[0marray\u001b[0m\u001b[0;34m(\u001b[0m\u001b[0;34m[\u001b[0m\u001b[0;34m[\u001b[0m\u001b[0;36m4.\u001b[0m\u001b[0;34m]\u001b[0m\u001b[0;34m,\u001b[0m\u001b[0;34m[\u001b[0m\u001b[0;36m2.\u001b[0m\u001b[0;34m]\u001b[0m\u001b[0;34m]\u001b[0m\u001b[0;34m)\u001b[0m\u001b[0;34m,\u001b[0m \u001b[0;36m2.\u001b[0m\u001b[0;34m,\u001b[0m \u001b[0mnp\u001b[0m\u001b[0;34m.\u001b[0m\u001b[0marray\u001b[0m\u001b[0;34m(\u001b[0m\u001b[0;34m[\u001b[0m\u001b[0;34m[\u001b[0m\u001b[0;36m1.\u001b[0m\u001b[0;34m,\u001b[0m\u001b[0;36m2.\u001b[0m\u001b[0;34m,\u001b[0m\u001b[0;34m-\u001b[0m\u001b[0;36m1.\u001b[0m\u001b[0;34m]\u001b[0m\u001b[0;34m,\u001b[0m\u001b[0;34m[\u001b[0m\u001b[0;36m3.\u001b[0m\u001b[0;34m,\u001b[0m\u001b[0;36m4.\u001b[0m\u001b[0;34m,\u001b[0m\u001b[0;34m-\u001b[0m\u001b[0;36m3.2\u001b[0m\u001b[0;34m]\u001b[0m\u001b[0;34m]\u001b[0m\u001b[0;34m)\u001b[0m\u001b[0;34m,\u001b[0m \u001b[0mnp\u001b[0m\u001b[0;34m.\u001b[0m\u001b[0marray\u001b[0m\u001b[0;34m(\u001b[0m\u001b[0;34m[\u001b[0m\u001b[0;34m[\u001b[0m\u001b[0;36m1\u001b[0m\u001b[0;34m,\u001b[0m\u001b[0;36m0\u001b[0m\u001b[0;34m,\u001b[0m\u001b[0;36m1\u001b[0m\u001b[0;34m]\u001b[0m\u001b[0;34m]\u001b[0m\u001b[0;34m)\u001b[0m\u001b[0;34m\u001b[0m\u001b[0;34m\u001b[0m\u001b[0m\n\u001b[0;32m----> 2\u001b[0;31m \u001b[0mgrads\u001b[0m\u001b[0;34m,\u001b[0m \u001b[0mcost\u001b[0m \u001b[0;34m=\u001b[0m \u001b[0mpropagation\u001b[0m\u001b[0;34m(\u001b[0m\u001b[0mw\u001b[0m\u001b[0;34m,\u001b[0m \u001b[0mb\u001b[0m\u001b[0;34m,\u001b[0m \u001b[0mX\u001b[0m\u001b[0;34m,\u001b[0m \u001b[0mY\u001b[0m\u001b[0;34m)\u001b[0m\u001b[0;34m\u001b[0m\u001b[0;34m\u001b[0m\u001b[0m\n\u001b[0m\u001b[1;32m      3\u001b[0m \u001b[0mprint\u001b[0m \u001b[0;34m(\u001b[0m\u001b[0;34m\"dw = \"\u001b[0m \u001b[0;34m+\u001b[0m \u001b[0mstr\u001b[0m\u001b[0;34m(\u001b[0m\u001b[0mgrads\u001b[0m\u001b[0;34m[\u001b[0m\u001b[0;34m\"dw\"\u001b[0m\u001b[0;34m]\u001b[0m\u001b[0;34m)\u001b[0m\u001b[0;34m)\u001b[0m\u001b[0;34m\u001b[0m\u001b[0;34m\u001b[0m\u001b[0m\n\u001b[1;32m      4\u001b[0m \u001b[0mprint\u001b[0m \u001b[0;34m(\u001b[0m\u001b[0;34m\"db = \"\u001b[0m \u001b[0;34m+\u001b[0m \u001b[0mstr\u001b[0m\u001b[0;34m(\u001b[0m\u001b[0mgrads\u001b[0m\u001b[0;34m[\u001b[0m\u001b[0;34m\"db\"\u001b[0m\u001b[0;34m]\u001b[0m\u001b[0;34m)\u001b[0m\u001b[0;34m)\u001b[0m\u001b[0;34m\u001b[0m\u001b[0;34m\u001b[0m\u001b[0m\n\u001b[1;32m      5\u001b[0m \u001b[0mprint\u001b[0m \u001b[0;34m(\u001b[0m\u001b[0;34m\"cost = \"\u001b[0m \u001b[0;34m+\u001b[0m \u001b[0mstr\u001b[0m\u001b[0;34m(\u001b[0m\u001b[0mcost\u001b[0m\u001b[0;34m)\u001b[0m\u001b[0;34m)\u001b[0m\u001b[0;34m\u001b[0m\u001b[0;34m\u001b[0m\u001b[0m\n",
      "\u001b[0;32m<ipython-input-18-b00471a6d00a>\u001b[0m in \u001b[0;36mpropagation\u001b[0;34m(w, b, X, Y)\u001b[0m\n\u001b[1;32m     21\u001b[0m     \u001b[0;31m### Début du code ### (≈ 2 lignes de code)\u001b[0m\u001b[0;34m\u001b[0m\u001b[0;34m\u001b[0m\u001b[0;34m\u001b[0m\u001b[0m\n\u001b[1;32m     22\u001b[0m     \u001b[0;31m# calcule l'activation\u001b[0m\u001b[0;34m\u001b[0m\u001b[0;34m\u001b[0m\u001b[0;34m\u001b[0m\u001b[0m\n\u001b[0;32m---> 23\u001b[0;31m     \u001b[0mA\u001b[0m \u001b[0;34m=\u001b[0m \u001b[0msigmoid\u001b[0m\u001b[0;34m(\u001b[0m\u001b[0;34m)\u001b[0m\u001b[0;34m\u001b[0m\u001b[0;34m\u001b[0m\u001b[0m\n\u001b[0m\u001b[1;32m     24\u001b[0m     \u001b[0;31m# compute cost\u001b[0m\u001b[0;34m\u001b[0m\u001b[0;34m\u001b[0m\u001b[0;34m\u001b[0m\u001b[0m\n\u001b[1;32m     25\u001b[0m     \u001b[0mcost\u001b[0m \u001b[0;34m=\u001b[0m \u001b[0;32mNone\u001b[0m\u001b[0;34m\u001b[0m\u001b[0;34m\u001b[0m\u001b[0m\n",
      "\u001b[0;31mTypeError\u001b[0m: sigmoid() missing 1 required positional argument: 'z'"
     ]
    }
   ],
   "source": [
    "w, b, X, Y = np.array([[4.],[2.]]), 2., np.array([[1.,2.,-1.],[3.,4.,-3.2]]), np.array([[1,0,1]])\n",
    "grads, cost = propagation(w, b, X, Y)\n",
    "print (\"dw = \" + str(grads[\"dw\"]))\n",
    "print (\"db = \" + str(grads[\"db\"]))\n",
    "print (\"cost = \" + str(cost))"
   ]
  },
  {
   "cell_type": "markdown",
   "metadata": {},
   "source": [
    "**Résultat attendu**:\n",
    "\n",
    "<table style=\"width:50%\">\n",
    "    <tr>\n",
    "        <td>  dw   </td>\n",
    "      <td> [[0.999923  ]\n",
    "         [2.39975403]]</td>\n",
    "    </tr>\n",
    "    <tr>\n",
    "        <td>  db  </td>\n",
    "        <td> 7.288578855054369e-05 </td>\n",
    "    </tr>\n",
    "    <tr>\n",
    "        <td>  cost  </td>\n",
    "        <td> 8.800077000774023 </td>\n",
    "    </tr>\n",
    "\n",
    "</table>"
   ]
  },
  {
   "cell_type": "markdown",
   "metadata": {},
   "source": [
    "### 4.4 - Optimisation\n",
    "\n",
    "- Vous avez initialisé vos paramètres.\n",
    "- Vous savez aussi calculer une fonction de coût et son gradient.\n",
    "- Maintenant, vous voulez mettre à jour les paramètres en utilisant la descente de gradient.\n",
    "\n",
    "\n",
    "**Exercise:** Ecrivez la fonction d'optimisation. Le but est d'apprendre $w$ et $b$ en minimisant la fonction de coût $J$. Pour un paramètre $\\theta$ donné, la formule de mise à jour est $ \\theta = \\theta - \\alpha \\text{ } d\\theta$, où $\\alpha$ correspond au **learning rate** (taux d'apprentissage)."
   ]
  },
  {
   "cell_type": "code",
   "execution_count": null,
   "metadata": {},
   "outputs": [],
   "source": [
    "def optimization(w, b, X, Y, n_iterations, learning_rate, print_cost=False):\n",
    "    \"\"\"\n",
    "    Arguments:\n",
    "    w -- les poids, numpy array de size (num_px * num_px * 3, 1)\n",
    "    b -- le biais, un scalaire\n",
    "    X -- matrice de size (num_px * num_px * 3, nombre d'exemples)\n",
    "    Y -- le vecteur correspondant aux labels (0 si non-chat, 1 si chat) de size (1, nombre d'exemples)\n",
    "    n_iterations -- nombre d'itérations dans la boucle d'optimisation\n",
    "    learning_rate -- le pas d'apprentissage\n",
    "    print_cost -- True pour afficher la loss toutes les 100 fois\n",
    "    \n",
    "    Returns:\n",
    "    params -- dictionnaire python contenant les poids w et le biais b\n",
    "    grads -- dictionnaire contenant les gradients de w et de b grâce à la fonction de coût\n",
    "    costs -- list de tous les coûts calculés pendant l'optimisation, cela nous permettra d'afficher la courbe d'apprentissage\n",
    "\n",
    "    Conseils:\n",
    "    Vous aurez besoin d'écrire 2 étapes et d'itérer à travers elles:\n",
    "        1) Calculez le coût et le gradient des paramètres. Utilisez propagation()\n",
    "        2) Updatez les paramètres en utilisant la descente de gradient pour w et b \n",
    "    \n",
    "    \"\"\"\n",
    "    \n",
    "    costs = []\n",
    "    \n",
    "    for i in range(n_iterations):\n",
    "        \n",
    "        \n",
    "        # Calcul du coût et du gradient (≈ 1-4 lignes de code)\n",
    "        ### Début du code ### \n",
    "        grads, cost = None\n",
    "        ### Fin du code ###\n",
    "        \n",
    "        # Récupérer les dérivées depuis grads\n",
    "        dw = grads[\"dw\"]\n",
    "        db = grads[\"db\"]\n",
    "        \n",
    "        # update (≈ 2 lignes de code)\n",
    "        ### Début du code ###\n",
    "        w = None\n",
    "        b = None\n",
    "        ### Fin du code ###\n",
    "        \n",
    "        # Stockez les coûts\n",
    "        if i % 100 == 0:\n",
    "            costs.append(cost)\n",
    "        \n",
    "        # Afficher le coût toutes les 100 itérations\n",
    "        if print_cost and i % 100 == 0:\n",
    "            print (\"Coût après iteration %i: %f\" %(i, cost))\n",
    "    \n",
    "    params = {\"w\": w,\n",
    "              \"b\": b}\n",
    "    \n",
    "    grads = {\"dw\": dw,\n",
    "             \"db\": db}\n",
    "    \n",
    "    return params, grads, costs"
   ]
  },
  {
   "cell_type": "code",
   "execution_count": null,
   "metadata": {},
   "outputs": [],
   "source": [
    "params, grads, costs = optimization(w, b, X, Y, n_iterations= 100, learning_rate = 0.009, print_cost = False)\n",
    "\n",
    "print (\"w = \" + str(params[\"w\"]))\n",
    "print (\"b = \" + str(params[\"b\"]))\n",
    "print (\"dw = \" + str(grads[\"dw\"]))\n",
    "print (\"db = \" + str(grads[\"db\"]))"
   ]
  },
  {
   "cell_type": "markdown",
   "metadata": {},
   "source": [
    "**Résultat attendu**: \n",
    "\n",
    "w = [[ 3.11567021]\n",
    " [-0.10995646]]\n",
    "\n",
    "b = 1.9850788219795317\n",
    "\n",
    "dw = [[0.89699851]\n",
    " [2.07122651]]\n",
    "\n",
    "db = 0.09736680112994214"
   ]
  },
  {
   "cell_type": "markdown",
   "metadata": {},
   "source": [
    "**Exercise:** La fonction précedente a permis d'afficher les poids w et le biais b appris. On peut les utiliser pour prédire les labels d'un jeu de données X. Implémentez la fonction `prediction()`. Il y a 2 étapes pour calculer les prédictions:\n",
    "\n",
    "1. Calculer $\\hat{Y} = A = \\sigma(w^T X + b)$\n",
    "\n",
    "2. Convertir les entrées de A en 0 (si activation <= 0.5) ou 1 (si activation > 0.5) et les stocker dans un vecteur `Y_prediction`."
   ]
  },
  {
   "cell_type": "code",
   "execution_count": null,
   "metadata": {},
   "outputs": [],
   "source": [
    "def prediction(w, b, X):\n",
    "    '''\n",
    "    Arguments:\n",
    "    w -- les poids, numpy array de size (num_px * num_px * 3, 1)\n",
    "    b -- le biais, un scalaire\n",
    "    X -- matrice de size (num_px * num_px * 3, nombre d'exemples)\n",
    "    \n",
    "    Returns:\n",
    "    Y_prediction -- un numpy array (vecteur) contenant toutes les prédictions (0/1) des exemples de X\n",
    "    '''\n",
    "    \n",
    "    m = X.shape[1]\n",
    "    Y_prediction = np.zeros((1,m))\n",
    "    w = w.reshape(X.shape[0], 1)\n",
    "    \n",
    "    # Calculez le vecteur \"A\" correspondant aux prédictions si un chat est présent dans l'image\n",
    "    ### Début du code ### (≈ 1 ligne de code)\n",
    "    A = None\n",
    "    ### Fin du code ###\n",
    "    \n",
    "    for i in range(A.shape[1]):\n",
    "        \n",
    "        # Convertissez les prédictions A[0,i] en p[0,i]\n",
    "        ### Début du code ### (≈ 4 lignes de code)\n",
    "\n",
    "        ### Fin du code ###\n",
    "    \n",
    "    assert(Y_prediction.shape == (1, m))\n",
    "    \n",
    "    return Y_prediction"
   ]
  },
  {
   "cell_type": "code",
   "execution_count": null,
   "metadata": {},
   "outputs": [],
   "source": [
    "w = np.array([[0.1124579],[0.23106775]])\n",
    "b = -0.3\n",
    "X = np.array([[1.,-1.2,-2.4],[1.4,2.5,0.6]])\n",
    "print (\"predictions = \" + str(prediction(w, b, X)))"
   ]
  },
  {
   "cell_type": "markdown",
   "metadata": {},
   "source": [
    "**Résultat attendu**: \n",
    "\n",
    "<table style=\"width:30%\">\n",
    "    <tr>\n",
    "         <td>\n",
    "             predictions\n",
    "         </td>\n",
    "          <td>\n",
    "            [[ 1.  1.  0.]]\n",
    "         </td>  \n",
    "   </tr>\n",
    "\n",
    "</table>\n"
   ]
  },
  {
   "cell_type": "markdown",
   "metadata": {
    "collapsed": true
   },
   "source": [
    "<font color='blue'>\n",
    "    \n",
    "**Ce que vous devez retenir:**\n",
    "\n",
    "Vous avez implémenté plusieurs fonctions qui:\n",
    "- initialise (w, b)\n",
    "- optimise la perte de façon itérative pour apprendre les paramètres (w, b):\n",
    "    - calcul du coût et de son gradient\n",
    "    - mise à jour des paramètres en utilisant la descente de gradient\n",
    "- utilise les (w, b) appris pour prédire les labels d'un jeu de données d'exemple"
   ]
  },
  {
   "cell_type": "markdown",
   "metadata": {},
   "source": [
    "## 5 - Mergez toutes les fonctions dans un modèle unique ##\n",
    "\n",
    "Vous allez maintenant voir comment le modèle global est structuré en intégrant tous les blocs (les fonctions que vous avez implémentées) ensemble, dans le bon ordre.\n",
    "\n",
    "**Exercice**: Implémentez la fonction \"model\". Utilisez les notations suivantes:\n",
    "    - Y_pred_test pour vos prédictions sur le jeu de données de test\n",
    "    - Y_pred_train pour vos prédictions sur le jeu de données de tain\n",
    "    - w, costs, grads pour les résultats de optimization()"
   ]
  },
  {
   "cell_type": "code",
   "execution_count": null,
   "metadata": {},
   "outputs": [],
   "source": [
    "def model(X_train, Y_train, X_test, Y_test, n_iterations = 2000, learning_rate = 0.5, print_cost=False):\n",
    "    \"\"\" \n",
    "    Arguments:\n",
    "    X_train -- jeu de données de train représenté par un numpy array de shape (num_px * num_px * 3, m_train)\n",
    "    Y_train -- labels des données de train représenté par un numpy array (vecteur) of shape (1, m_train)\n",
    "    X_test -- jeu de données de test représenté par un numpy array de shape (num_px * num_px * 3, m_test)\n",
    "    Y_test -- labels des données de test représenté par un numpy array (vecteur) of shape (1, m_test)\n",
    "    n_iterations -- nombre d'itérations dans la boucle d'optimisation\n",
    "    learning_rate -- le pas d'apprentissage\n",
    "    print_cost -- True pour afficher la loss toutes les 100 fois\n",
    "    \n",
    "\n",
    "    Returns:\n",
    "    d -- dictionnaire python contenant toutes les informations du modèle.\n",
    "    \"\"\"\n",
    "    \n",
    "    ### Début du code ###\n",
    "\n",
    "    # Initialisez les paramètres avec des 0 (≈ 1 ligne de code)\n",
    "    w, b = None\n",
    "\n",
    "    # Descente de gradient (≈ 1 ligne de code)\n",
    "    parameters, grads, costs = None\n",
    "    \n",
    "    # récupérez les paramètres depuis parameters\n",
    "    w = parameters[\"w\"]\n",
    "    b = parameters[\"b\"]\n",
    "    \n",
    "    # Prédisez les exemples de train et de test (≈ 2 lignes de code)\n",
    "    Y_pred_test = None\n",
    "    Y_pred_train =  None\n",
    "\n",
    "    ### Fin du code ###\n",
    "\n",
    "    # Print les erreurs de train et de test\n",
    "    print(\"train accuracy: {} %\".format(100 - np.mean(np.abs(Y_pred_train - Y_train)) * 100))\n",
    "    print(\"test accuracy: {} %\".format(100 - np.mean(np.abs(Y_pred_test - Y_test)) * 100))\n",
    "\n",
    "    \n",
    "    d = {\"costs\": costs,\n",
    "         \"Y_pred_test\": Y_pred_test, \n",
    "         \"Y_pred_train\" : Y_pred_train, \n",
    "         \"w\" : w, \n",
    "         \"b\" : b,\n",
    "         \"learning_rate\" : learning_rate,\n",
    "         \"num_iterations\": n_iterations}\n",
    "    \n",
    "    return d"
   ]
  },
  {
   "cell_type": "markdown",
   "metadata": {},
   "source": [
    "Exécutez la cellule suivante pour entraîner votre modèle."
   ]
  },
  {
   "cell_type": "code",
   "execution_count": null,
   "metadata": {},
   "outputs": [],
   "source": [
    "d = model(x_train, y_train, x_test, y_test, n_iterations = 2000, learning_rate = 0.006, print_cost = True)"
   ]
  },
  {
   "cell_type": "markdown",
   "metadata": {},
   "source": [
    "**Résultat attendu**: \n",
    "\n",
    "Coût après iteration 0: 0.693147\n",
    "\n",
    "Coût après iteration 100: 0.649811\n",
    "\n",
    "Coût après iteration 200: 0.538312\n",
    "\n",
    "Coût après iteration 300: 0.439262\n",
    "\n",
    "Coût après iteration 400: 0.349825\n",
    "\n",
    "Coût après iteration 500: 0.278498\n",
    "\n",
    "Coût après iteration 600: 0.249764\n",
    "\n",
    "Coût après iteration 700: 0.231178\n",
    "\n",
    "Coût après iteration 800: 0.215229\n",
    "\n",
    "Coût après iteration 900: 0.201339\n",
    "\n",
    "Coût après iteration 1000: 0.189110\n",
    "\n",
    "Coût après iteration 1100: 0.178249\n",
    "\n",
    "Coût après iteration 1200: 0.168533\n",
    "\n",
    "Coût après iteration 1300: 0.159788\n",
    "\n",
    "Coût après iteration 1400: 0.151873\n",
    "\n",
    "Coût après iteration 1500: 0.144677\n",
    "\n",
    "Coût après iteration 1600: 0.138104\n",
    "\n",
    "Coût après iteration 1700: 0.132079\n",
    "\n",
    "Coût après iteration 1800: 0.126537\n",
    "\n",
    "Coût après iteration 1900: 0.121421\n",
    "\n",
    "train accuracy: 99.52153110047847 %\n",
    "\n",
    "test accuracy: 68.0 %\n",
    "\n",
    "\n"
   ]
  },
  {
   "cell_type": "markdown",
   "metadata": {
    "collapsed": true
   },
   "source": [
    "**Commentaire**: Votre accurary (précision) de train est très proche de 100%. C'est très bien, votre modèle est fonctionnel et sait très bien reconnaître les chats du jeu de données de train. Cependant, l'accuracy de test est de 68%. C'est n'est pas si mal pour le modèle simple qu'on a construit étant donné le petit jeu de données fourni, mais ne vous inquiéter pas, nous construirons un meilleur modèle dans un futur workshop.\n",
    "\n",
    "Vous avez aussi remarqué que le modèle à surinterpréter (overfit) les données de train. Nous verrons plus tard des méthodes pour réduire la surinterprétation (en utilisant la régularisation par exemple). Utilisez le code ci-dessous pour afficher la fonction de coût et ses gradients."
   ]
  },
  {
   "cell_type": "code",
   "execution_count": null,
   "metadata": {},
   "outputs": [],
   "source": [
    "# Plot learning curve (with costs)\n",
    "costs = np.squeeze(d['costs'])\n",
    "plt.plot(costs)\n",
    "plt.ylabel('cost')\n",
    "plt.xlabel('iterations (par centaine)')\n",
    "plt.title(\"Learning rate =\" + str(d[\"learning_rate\"]))\n",
    "plt.show()"
   ]
  },
  {
   "cell_type": "markdown",
   "metadata": {
    "collapsed": true
   },
   "source": [
    "**Interprétation**:\n",
    "Vous pouvez voir que le coût décroît. Cela montre que les paramètres sont en cours d'apprentissage. Cependant, vous voyez aussi que le modèle s'entraîne trop sur le jeu de données de train. Essayez d'augmenter le nombre d'itérations dans la cellule au dessus et re-exécutez les cellules. Vous devriez voir que la précision du jeu de donnée d'entraînement augmente mais que celui de test baisse. C'est ce qu'on appelle l'overfitting."
   ]
  },
  {
   "cell_type": "markdown",
   "metadata": {},
   "source": [
    "Quelques sources utiles:\n",
    "- http://www.wildml.com/2015/09/implementing-a-neural-network-from-scratch/\n",
    "- https://stats.stackexchange.com/questions/211436/why-do-we-normalize-images-by-subtracting-the-datasets-image-mean-and-not-the-c"
   ]
  }
 ],
 "metadata": {
  "coursera": {
   "course_slug": "neural-networks-deep-learning",
   "graded_item_id": "XaIWT",
   "launcher_item_id": "zAgPl"
  },
  "kernelspec": {
   "name": "python389jvsc74a57bd0e7370f93d1d0cde622a1f8e1c04877d8463912d04d973331ad4851f04de6915a",
   "display_name": "Python 3.8.9 64-bit"
  },
  "language_info": {
   "codemirror_mode": {
    "name": "ipython",
    "version": 3
   },
   "file_extension": ".py",
   "mimetype": "text/x-python",
   "name": "python",
   "nbconvert_exporter": "python",
   "pygments_lexer": "ipython3",
   "version": "3.8.9"
  },
  "metadata": {
   "interpreter": {
    "hash": "e7370f93d1d0cde622a1f8e1c04877d8463912d04d973331ad4851f04de6915a"
   }
  }
 },
 "nbformat": 4,
 "nbformat_minor": 2
}